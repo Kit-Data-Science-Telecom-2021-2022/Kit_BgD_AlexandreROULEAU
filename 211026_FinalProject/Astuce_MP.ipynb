{
 "cells": [
  {
   "cell_type": "code",
   "execution_count": 9,
   "id": "89b94ed8-a650-4775-b681-043377b31840",
   "metadata": {},
   "outputs": [
    {
     "name": "stdout",
     "output_type": "stream",
     "text": [
      "ooooooo\n",
      "xxxxxxx\n",
      "xxxxxxxooooooo\n",
      "\n",
      "oooooooxxxxxxx\n",
      "\n",
      "fin du programme\n"
     ]
    }
   ],
   "source": [
    "import time\n",
    "import threading\n",
    "\n",
    "def process_one():\n",
    "    i = 0\n",
    "    while i < 3:\n",
    "        print (\"ooooooo\")\n",
    "        time.sleep(0.3)\n",
    "        i+=1\n",
    "        \n",
    "def process_two():\n",
    "    i = 0\n",
    "    while i < 3:\n",
    "        print (\"xxxxxxx\")\n",
    "        time.sleep(0.3)\n",
    "        i+=1\n",
    "\n",
    "th1 = threading.Thread(target = process_one)\n",
    "th2 = threading.Thread(target = process_two)\n",
    "\n",
    "th1.start()\n",
    "th2.start()\n",
    "\n",
    "\n",
    "th1.join()\n",
    "th2.join()\n",
    "\n",
    "print(\"fin du programme\")"
   ]
  },
  {
   "cell_type": "code",
   "execution_count": null,
   "id": "e0fcd049-2ab9-47ed-8636-d3b9c64dd26c",
   "metadata": {},
   "outputs": [],
   "source": []
  }
 ],
 "metadata": {
  "kernelspec": {
   "display_name": "Python 3 (ipykernel)",
   "language": "python",
   "name": "python3"
  },
  "language_info": {
   "codemirror_mode": {
    "name": "ipython",
    "version": 3
   },
   "file_extension": ".py",
   "mimetype": "text/x-python",
   "name": "python",
   "nbconvert_exporter": "python",
   "pygments_lexer": "ipython3",
   "version": "3.8.11"
  }
 },
 "nbformat": 4,
 "nbformat_minor": 5
}
