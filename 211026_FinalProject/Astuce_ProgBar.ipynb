{
 "cells": [
  {
   "cell_type": "code",
   "execution_count": null,
   "id": "25590e6e-1f05-4abc-91b9-49a58a712a2d",
   "metadata": {},
   "outputs": [],
   "source": []
  },
  {
   "cell_type": "code",
   "execution_count": 1,
   "id": "09029b48-c960-4155-b53b-826b34e8bc3c",
   "metadata": {},
   "outputs": [
    {
     "data": {
      "application/vnd.jupyter.widget-view+json": {
       "model_id": "51f2b0eabce34170b33a0999f6a1da6d",
       "version_major": 2,
       "version_minor": 0
      },
      "text/plain": [
       "Loop 1:   0%|          | 0/3 [00:00<?, ?it/s]"
      ]
     },
     "metadata": {},
     "output_type": "display_data"
    },
    {
     "data": {
      "application/vnd.jupyter.widget-view+json": {
       "model_id": "5cba2fa8b61f4112af325591de7963da",
       "version_major": 2,
       "version_minor": 0
      },
      "text/plain": [
       "Loop 1.1:   0%|          | 0/3 [00:00<?, ?it/s]"
      ]
     },
     "metadata": {},
     "output_type": "display_data"
    }
   ],
   "source": [
    "from time import sleep\n",
    "from tqdm.auto import tqdm\n",
    "\n",
    "with tqdm(range(3), desc = \"Loop 1\") as outer:\n",
    "    inner_total = 3\n",
    "    with tqdm(total=inner_total, desc = \"Loop 1.1\") as inner:\n",
    "        for i in outer:\n",
    "            inner.reset(inner_total)  # reinitialise without clearing\n",
    "            for j in range(inner_total):\n",
    "                inner.update()\n",
    "            inner.refresh()  # print last state without clearing"
   ]
  },
  {
   "cell_type": "code",
   "execution_count": null,
   "id": "ac2feed9-4dfc-4bf3-b37a-25e847895a03",
   "metadata": {},
   "outputs": [],
   "source": [
    "tqdm_notebook."
   ]
  },
  {
   "cell_type": "code",
   "execution_count": null,
   "id": "b39c5d45-63ee-49ae-ad70-80447e380e99",
   "metadata": {},
   "outputs": [],
   "source": []
  },
  {
   "cell_type": "code",
   "execution_count": 9,
   "id": "1c0fd09d-4134-42a8-bbe7-c52c8467cce1",
   "metadata": {},
   "outputs": [
    {
     "data": {
      "application/vnd.jupyter.widget-view+json": {
       "model_id": "603f47b99ce044e99e0231281607a97b",
       "version_major": 2,
       "version_minor": 0
      },
      "text/plain": [
       "  0%|          | 0/100 [00:00<?, ?it/s]"
      ]
     },
     "metadata": {},
     "output_type": "display_data"
    }
   ],
   "source": [
    "from time import sleep\n",
    "from tqdm.auto import tqdm\n",
    "\n",
    "i = 0\n",
    "pbar = tqdm(total=100, initial = i)\n",
    "while i < 100:\n",
    "    pbar.update()\n",
    "    i +=1\n",
    "    sleep(1)\n",
    "pbar.close()"
   ]
  },
  {
   "cell_type": "code",
   "execution_count": null,
   "id": "a31fb465-e596-4b83-b1be-bc464d5995bf",
   "metadata": {},
   "outputs": [],
   "source": []
  },
  {
   "cell_type": "code",
   "execution_count": null,
   "id": "1787e4b7-3e20-4653-83ed-40bb06a8dd2a",
   "metadata": {},
   "outputs": [],
   "source": []
  },
  {
   "cell_type": "code",
   "execution_count": null,
   "id": "336eabe7-b49a-4e56-aa85-23cc3f415d74",
   "metadata": {},
   "outputs": [],
   "source": []
  }
 ],
 "metadata": {
  "kernelspec": {
   "display_name": "Python 3 (ipykernel)",
   "language": "python",
   "name": "python3"
  },
  "language_info": {
   "codemirror_mode": {
    "name": "ipython",
    "version": 3
   },
   "file_extension": ".py",
   "mimetype": "text/x-python",
   "name": "python",
   "nbconvert_exporter": "python",
   "pygments_lexer": "ipython3",
   "version": "3.8.11"
  }
 },
 "nbformat": 4,
 "nbformat_minor": 5
}
