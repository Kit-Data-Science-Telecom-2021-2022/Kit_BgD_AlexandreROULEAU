{
 "cells": [
  {
   "cell_type": "code",
   "execution_count": 1,
   "id": "4db38ce5-ac34-41f0-91da-af20ce4550f8",
   "metadata": {},
   "outputs": [
    {
     "name": "stdout",
     "output_type": "stream",
     "text": [
      "Le répertoire  \\DataRank_2021  existe\n"
     ]
    }
   ],
   "source": [
    "import os\n",
    "\n",
    "MainDir = os.getcwd()\n",
    "DataRankDir = '\\DataRank_2021'\n",
    "DataSkipperDir = '\\DataSkipper_2021'\n",
    "if os.path.exists(MainDir+DataRankDir):\n",
    "    print(\"Le répertoire \", str(DataRankDir), \" existe\")\n",
    "else :\n",
    "    print(\"Le répertoire \", str(DataRankDir), \" n'existe pas\")"
   ]
  },
  {
   "cell_type": "code",
   "execution_count": 5,
   "id": "4b3b2427-16cf-4eba-af2b-1d31be5cfaaa",
   "metadata": {},
   "outputs": [
    {
     "name": "stdout",
     "output_type": "stream",
     "text": [
      "Le répertoire  \\Coucou  n'existe pas\n"
     ]
    }
   ],
   "source": [
    "MainDir = os.getcwd()\n",
    "DataRankDir = '\\DataRank_2021'\n",
    "DataSkipperDir = '\\DataSkipper_2021'\n",
    "Test=\"\\Coucou\"\n",
    "if os.path.exists(MainDir+Test):\n",
    "    print(\"Le répertoire \", str(Test), \" existe\")\n",
    "else :\n",
    "    print(\"Le répertoire \", str(Test), \" n'existe pas\")\n",
    "    os.mkdir(MainDir+Test)"
   ]
  },
  {
   "cell_type": "code",
   "execution_count": 10,
   "id": "69e5d60d-3db6-4919-8152-3a339d86ea9b",
   "metadata": {},
   "outputs": [
    {
     "name": "stdout",
     "output_type": "stream",
     "text": [
      "Le fichier  Test existe\n"
     ]
    }
   ],
   "source": [
    "MainDir = os.getcwd()\n",
    "DataRankDir = '\\DataRank_2021'\n",
    "DataSkipperDir = '\\DataSkipper_2021'\n",
    "Test=\"\\Coucou\"\n",
    "\n",
    "try :\n",
    "    os.path.exists(MainDir+Test)\n",
    "    state = True\n",
    "except :\n",
    "    os.mkdir(MainDir+Test)\n",
    "    state = False\n",
    "finally :\n",
    "    print (\"Le fichier \", f'{Test=}'.split('=')[0], \"existe\")"
   ]
  },
  {
   "cell_type": "code",
   "execution_count": 6,
   "id": "3c3fd445-647e-4861-92e7-f4565eefef94",
   "metadata": {},
   "outputs": [
    {
     "data": {
      "text/plain": [
       "'foo'"
      ]
     },
     "execution_count": 6,
     "metadata": {},
     "output_type": "execute_result"
    }
   ],
   "source": [
    "foo = 1\n",
    "f'{foo=}'.split('=')[0]"
   ]
  },
  {
   "cell_type": "code",
   "execution_count": 13,
   "id": "494d2343-8057-4c8e-95c4-ddf7b3b67a7e",
   "metadata": {},
   "outputs": [
    {
     "ename": "SyntaxError",
     "evalue": "unexpected EOF while parsing (Temp/ipykernel_15376/1660472778.py, line 2)",
     "output_type": "error",
     "traceback": [
      "\u001b[1;36m  File \u001b[1;32m\"C:\\Users\\alexa\\AppData\\Local\\Temp/ipykernel_15376/1660472778.py\"\u001b[1;36m, line \u001b[1;32m2\u001b[0m\n\u001b[1;33m    return os.path.isdir(MainDir+Test)\u001b[0m\n\u001b[1;37m                                      ^\u001b[0m\n\u001b[1;31mSyntaxError\u001b[0m\u001b[1;31m:\u001b[0m unexpected EOF while parsing\n"
     ]
    }
   ],
   "source": [
    "try :\n",
    "    return os.path.isdir(MainDir+Test)"
   ]
  },
  {
   "cell_type": "code",
   "execution_count": 14,
   "id": "2c8ac167-1eab-4c65-87c5-d1f02b2f1eaf",
   "metadata": {},
   "outputs": [
    {
     "data": {
      "text/plain": [
       "False"
      ]
     },
     "execution_count": 14,
     "metadata": {},
     "output_type": "execute_result"
    }
   ],
   "source": [
    "os.path.isdir(MainDir+Test)"
   ]
  },
  {
   "cell_type": "code",
   "execution_count": null,
   "id": "c06d7097-659c-4d12-816c-fde658de403b",
   "metadata": {},
   "outputs": [],
   "source": []
  }
 ],
 "metadata": {
  "kernelspec": {
   "display_name": "Python 3 (ipykernel)",
   "language": "python",
   "name": "python3"
  },
  "language_info": {
   "codemirror_mode": {
    "name": "ipython",
    "version": 3
   },
   "file_extension": ".py",
   "mimetype": "text/x-python",
   "name": "python",
   "nbconvert_exporter": "python",
   "pygments_lexer": "ipython3",
   "version": "3.8.11"
  }
 },
 "nbformat": 4,
 "nbformat_minor": 5
}
