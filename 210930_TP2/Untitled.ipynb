{
 "cells": [
  {
   "cell_type": "markdown",
   "id": "dd9b6ca6-b909-4078-b396-2a7ee7841184",
   "metadata": {
    "tags": []
   },
   "source": [
    "<div style=\"text-align: center\"><h1>IA702 - PROBABILISTIC MODELS & MACHINE LEARNING</h1><h2>TP1 - La segmentation Bayésienne<h2><h3><div style=\"text-align: right\"> Alexandre ROULEAU - MS IA <br> 09/2021 </div></h3>"
   ]
  },
  {
   "cell_type": "markdown",
   "id": "1fbbc07b-6dac-47a9-b1e7-55b3dffe57f3",
   "metadata": {},
   "source": [
    "<h1><u>1. DEFINITION DES FONCTIONS PRINCIPALES (suivant l'énoncé du TP)</u></h1>"
   ]
  },
  {
   "cell_type": "markdown",
   "id": "61bd1b1a-04f3-49d5-adc7-9d23481ea05c",
   "metadata": {},
   "source": [
    "<h2>1.1. PARTIE 1 : Une première idée des enjeux du problème</h2>"
   ]
  },
  {
   "cell_type": "markdown",
   "id": "43e5c356-8ade-4737-9910-28cfa5a1dc06",
   "metadata": {},
   "source": [
    "<h3>1.1.1. Question 1-a : Fonction bruit_gauss2(X, cl1, cl2, m1, sig1, m2, sig2)</h3>"
   ]
  },
  {
   "cell_type": "code",
   "execution_count": 2,
   "id": "1f84b3a4-5bd3-42dc-a5c2-2cca82fde6ef",
   "metadata": {},
   "outputs": [],
   "source": [
    "def Bruit_Gauss2(X, Cl1, Cl2, m1, sig1, m2, sig2):                                     #Bruit_Gauss2(Signal, Classe1, Classe2, Mu1, Sigma1, Mu2, Sigma2)\n",
    "    Noise = lambda Data, Cl, m, sig : (Data==Cl)*np.random.normal(m, sig, Data.shape)  #Création d'un signal bruité avec un random suivant la loi normale suivant la classe du signal d'entrée\n",
    "    return Noise(X, Cl1, m1, sig1) + Noise(X, Cl2, m2, sig2)                           #Retourne la somme des deux signaux bruités Cl1 et Cl2"
   ]
  },
  {
   "cell_type": "markdown",
   "id": "c5ed4b49-543b-4600-8601-47ffa17d9e8b",
   "metadata": {},
   "source": [
    "<h3>1.1.2 Question 1-b : Fonction Classif_gauss2(Y, cl1, cl2, m1, sig1, m2, sig2)</h3>"
   ]
  },
  {
   "cell_type": "code",
   "execution_count": null,
   "id": "98565bdb-8a2f-4dfa-92d2-3a430c720fcd",
   "metadata": {},
   "outputs": [],
   "source": [
    "def Classif_Gauss2(Y, Cl1, Cl2, m1, sig1, m2, sig2):\n",
    "    V = lambda m , sig : norm.pdf(Y, m, sig)\n",
    "    X = np.where(V(m1, sig1) > V(m2, sig2), Cl1, Cl2)\n",
    "    return X"
   ]
  },
  {
   "cell_type": "markdown",
   "id": "640fa797-97d2-4995-8d64-f2a18d983bc4",
   "metadata": {
    "tags": []
   },
   "source": [
    "<h3>1.1.3. Question 1-c : Fonction Load_File(Filename, Suffix)</h3>"
   ]
  },
  {
   "cell_type": "code",
   "execution_count": 5,
   "id": "963b8c4d-8adc-44a9-bbe2-fff71ad2619f",
   "metadata": {},
   "outputs": [],
   "source": [
    "def Load_File(FileName, Suffix):                                                             #Load_File(NomFichier, SuffixeNomFichier), string uniquement\n",
    "    Signal = np.load(FileName + Suffix + '.npy')                                             #Chargement du signal dans \"NomFichier\"+\"SuffixeNomFichier\"+\"Extension .npy\"\n",
    "    counts, _ = np.histogram(Signal, bins=int(Signal.max()+1), range=(0,int(Signal.max())))  #Script (2lignes) de définition des classes Cl1 et Cl2\n",
    "    Cl1, Cl2 = np.nonzero(counts)[0]\n",
    "    return Signal, Cl1, Cl2                                                                  #Retourner Signal(table), Cl1 et Cl2(float)"
   ]
  },
  {
   "cell_type": "markdown",
   "id": "c18b6663-d7de-4150-bb1d-06f61d3e5c1d",
   "metadata": {},
   "source": [
    "<h3>1.1.3 Question 2 : Fonction Taux_Erreur(A,B)</h3>"
   ]
  },
  {
   "cell_type": "code",
   "execution_count": null,
   "id": "a9585af7-9ad1-4e81-aed1-00873ec1659e",
   "metadata": {},
   "outputs": [],
   "source": [
    "def Taux_Erreur(A,B) :\n",
    "    Taux_Erreur = 100*np.count_nonzero(A-B)/len(A)\n",
    "    return Taux_Erreur"
   ]
  },
  {
   "cell_type": "markdown",
   "id": "5f13d7f5-a4f8-428d-9ebe-5e9e6b45a94f",
   "metadata": {},
   "source": [
    "<h3>1.1.3 Question 2 : Fonction Taux_Erreur(A,B)</h3>"
   ]
  },
  {
   "cell_type": "code",
   "execution_count": 3,
   "id": "9820224b-d22d-4454-bc53-45c31a6c7881",
   "metadata": {},
   "outputs": [],
   "source": [
    "def VarTaux():\n",
    "    Taux = []\n",
    "    TauxMoy = []\n",
    "    for i in range(2000):\n",
    "        Y = Bruit_Gauss2(Signal, Cl1, Cl2, m1, sig1, m2, sig2)\n",
    "        X = Classif_Gauss2(Y, Cl1, Cl2, m1, sig1, m2, sig2)\n",
    "        Taux.append(Taux_Erreur(X, Signal))\n",
    "        TauxMoy.append(np.mean(Taux))\n",
    "        #if Taux[i]!=0:\n",
    "            #plt.plot(Y)\n",
    "        #    plt.plot(X)\n",
    "    #plt.plot(Signaly)\n",
    "    return Taux, TauxMoy"
   ]
  },
  {
   "cell_type": "markdown",
   "id": "c8aaec2b-7086-4372-bd92-583e23079044",
   "metadata": {
    "jp-MarkdownHeadingCollapsed": true,
    "tags": []
   },
   "source": [
    "# A Placer"
   ]
  },
  {
   "cell_type": "code",
   "execution_count": null,
   "id": "037d0dc4-ddd0-46fe-9390-106e33f40170",
   "metadata": {},
   "outputs": [],
   "source": [
    "%reset\n",
    "\n",
    "import numpy as np\n",
    "from scipy.stats import norm\n",
    "import matplotlib.pyplot as plt\n",
    "\n",
    "######################################################################################\n",
    "def Init():\n",
    "    FilesName = 'Signal'\n",
    "    Suffix = ['','1','2','3','4','5']\n",
    "    \n",
    "    NoiseTab = [[120, 130, 1, 2],\n",
    "                [120, 127, 1, 5],\n",
    "                [127, 128, 1, 1],\n",
    "                [127, 128, 0.1, 0.1],\n",
    "                [127, 128, 2, 3]]\n",
    "    return FilesName, Suffix, NoiseTab\n",
    "    \n",
    "def Load_File(FileName, Suffix):\n",
    "    Signal = np.load(FileName + Suffix + '.npy')\n",
    "    counts, _ = np.histogram(Signal, bins=int(Signal.max()+1), range=(0,int(Signal.max())))\n",
    "    Cl1, Cl2 = np.nonzero(counts)[0]\n",
    "    return Signal, Cl1, Cl2\n",
    "\n",
    "#######################################################################################\n",
    "def Bruit_Gauss2(X, Cl1, Cl2, m1, sig1, m2, sig2):\n",
    "    Noise = lambda Data, Cl, m, sig : (Data==Cl)*np.random.normal(m, sig, Data.shape)\n",
    "    return Noise(X, Cl1, m1, sig1) + Noise(X, Cl2, m2, sig2)\n",
    "\n",
    "def Classif_Gauss2(Y, Cl1, Cl2, m1, sig1, m2, sig2):\n",
    "    V = lambda m , sig : norm.pdf(Y, m, sig)\n",
    "    X = np.where(V(m1, sig1) > V(m2, sig2), Cl1, Cl2)\n",
    "    return X\n",
    "\n",
    "def Taux_Erreur(A,B) :\n",
    "    Taux_Erreur = 100*np.count_nonzero(A-B)/len(A)\n",
    "    return Taux_Erreur\n",
    "\n",
    "def VarTaux():\n",
    "    Taux = []\n",
    "    TauxMoy = []\n",
    "    for i in range(2000):\n",
    "        Y = Bruit_Gauss2(Signal, Cl1, Cl2, m1, sig1, m2, sig2)\n",
    "        X = Classif_Gauss2(Y, Cl1, Cl2, m1, sig1, m2, sig2)\n",
    "        Taux.append(Taux_Erreur(X, Signal))\n",
    "        TauxMoy.append(np.mean(Taux))\n",
    "        #if Taux[i]!=0:\n",
    "            #plt.plot(Y)\n",
    "        #    plt.plot(X)\n",
    "    #plt.plot(Signaly)\n",
    "    return Taux, TauxMoy\n",
    "    \n",
    "######################################################################################\n",
    "\n",
    "FilesName, Suffix, NoiseTab = Init()\n",
    "iSuffix = int(input(\"Num de fichier signal (entre 0 et 5):\"))\n",
    "Signal, Cl1, Cl2 = Load_File(FilesName, Suffix[iSuffix])\n",
    "\n",
    "plt.figure(dpi=1200)\n",
    "plt.suptitle(FilesName + Suffix[iSuffix], fontsize=12)\n",
    "for j in range(len(NoiseTab)):\n",
    "    m1, m2, sig1, sig2 = NoiseTab[j][0],NoiseTab[j][1],NoiseTab[j][2],NoiseTab[j][3]\n",
    "    Y = Bruit_Gauss2(Signal, Cl1, Cl2, m1, sig1, m2, sig2)\n",
    "    X = Classif_Gauss2(Y, Cl1, Cl2, m1, sig1, m2, sig2)\n",
    "    tau = Taux_Erreur(X, Signal)\n",
    "    Taux, TauxMoy = VarTaux()\n",
    "    plt.subplot(2,3,j+1)\n",
    "    plt.title(\"m1: \"+str(m1)+ \" - m2: \"+str(m2)+ \" - sig1: \"+str(sig1)+ \" - sig2: \"+ str(sig2), fontsize=6)\n",
    "    plt.plot(TauxMoy, linewidth=1)\n",
    "    plt.xlabel('Nb iteration []', fontsize=6)\n",
    "    plt.ylabel('Taux Erreur [%]', fontsize=6)\n",
    "    plt.rc(['xtick', 'ytick'], labelsize=6)\n",
    "    #plt.plot(Taux)\n",
    "plt.tight_layout()\n",
    "plt.show()"
   ]
  },
  {
   "cell_type": "code",
   "execution_count": null,
   "id": "db98f364-91e6-422c-b89c-17868ed7d8c8",
   "metadata": {},
   "outputs": [],
   "source": []
  }
 ],
 "metadata": {
  "kernelspec": {
   "display_name": "Python 3 (ipykernel)",
   "language": "python",
   "name": "python3"
  },
  "language_info": {
   "codemirror_mode": {
    "name": "ipython",
    "version": 3
   },
   "file_extension": ".py",
   "mimetype": "text/x-python",
   "name": "python",
   "nbconvert_exporter": "python",
   "pygments_lexer": "ipython3",
   "version": "3.8.11"
  }
 },
 "nbformat": 4,
 "nbformat_minor": 5
}
