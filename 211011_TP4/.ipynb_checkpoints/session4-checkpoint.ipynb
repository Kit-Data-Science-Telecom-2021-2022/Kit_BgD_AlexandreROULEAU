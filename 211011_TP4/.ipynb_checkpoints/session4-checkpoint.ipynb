{
 "cells": [
  {
   "cell_type": "markdown",
   "metadata": {},
   "source": [
    "# Télécom Paris - INFMDI721 - Session 4\n",
    "\n",
    "1. **Parsing XML**\n",
    "2. **Web scraping et parsing HTML**\n",
    "3. **API**"
   ]
  },
  {
   "cell_type": "markdown",
   "metadata": {},
   "source": [
    "### 1. Parsing XML (Extensible Markup Language)"
   ]
  },
  {
   "cell_type": "markdown",
   "metadata": {},
   "source": [
    "Documentation : https://fr.wikipedia.org/wiki/Extensible_Markup_Language\n",
    "\n",
    "Librairie lxml : https://lxml.de/tutorial.html"
   ]
  },
  {
   "cell_type": "code",
   "execution_count": 4,
   "metadata": {},
   "outputs": [],
   "source": [
    "# imports\n",
    "import pandas as pd\n",
    "from lxml import etree\n",
    "\n",
    "#etree : ElementTree API\n",
    "\n",
    "# options d'affichage\n",
    "pd.set_option(\"display.min_rows\", 16)"
   ]
  },
  {
   "cell_type": "markdown",
   "metadata": {},
   "source": [
    "**Exemple**\n",
    "\n",
    "Les 150 propositions de la Convention Citoyenne pour le Climat\n",
    "\n",
    "https://www.data.gouv.fr/fr/datasets/les-150-propositions-de-la-convention-citoyenne-pour-le-climat/"
   ]
  },
  {
   "cell_type": "code",
   "execution_count": 5,
   "metadata": {},
   "outputs": [],
   "source": [
    "# parsing XML\n",
    "root = etree.parse('propositions.xml')"
   ]
  },
  {
   "cell_type": "code",
   "execution_count": 6,
   "metadata": {},
   "outputs": [
    {
     "data": {
      "text/plain": [
       "lxml.etree._ElementTree"
      ]
     },
     "execution_count": 6,
     "metadata": {},
     "output_type": "execute_result"
    }
   ],
   "source": [
    "# type\n",
    "type(root)\n",
    "#Structure les données par tronc, par breanche, par feuille..."
   ]
  },
  {
   "cell_type": "code",
   "execution_count": 7,
   "metadata": {},
   "outputs": [],
   "source": [
    "# trouver un élément\n",
    "element = root.find('categorie')"
   ]
  },
  {
   "cell_type": "code",
   "execution_count": 8,
   "metadata": {},
   "outputs": [
    {
     "data": {
      "text/plain": [
       "lxml.etree._Element"
      ]
     },
     "execution_count": 8,
     "metadata": {},
     "output_type": "execute_result"
    }
   ],
   "source": [
    "# type\n",
    "type(element)"
   ]
  },
  {
   "cell_type": "code",
   "execution_count": 9,
   "metadata": {},
   "outputs": [
    {
     "data": {
      "text/plain": [
       "<Element propositions at 0x219d8263480>"
      ]
     },
     "execution_count": 9,
     "metadata": {},
     "output_type": "execute_result"
    }
   ],
   "source": [
    "# parent\n",
    "element.getparent()"
   ]
  },
  {
   "cell_type": "code",
   "execution_count": 10,
   "metadata": {},
   "outputs": [
    {
     "data": {
      "text/plain": [
       "'Modifications de la Constitution et des institutions'"
      ]
     },
     "execution_count": 10,
     "metadata": {},
     "output_type": "execute_result"
    }
   ],
   "source": [
    "# attribut\n",
    "element.attrib['titre']"
   ]
  },
  {
   "cell_type": "code",
   "execution_count": 11,
   "metadata": {},
   "outputs": [],
   "source": [
    "# trouver un élément\n",
    "element = root.find('categorie').find('sousCategorie').find('proposition')"
   ]
  },
  {
   "cell_type": "code",
   "execution_count": 12,
   "metadata": {},
   "outputs": [
    {
     "data": {
      "text/plain": [
       "'Ajout d\\'un alinéa dans le préambule de la Constitution : \"La conciliation des droits, libertés et principes qui en résultent ne saurait compromettre la préservation de l’environnement, patrimoine commun de l’humanité.\"'"
      ]
     },
     "execution_count": 12,
     "metadata": {},
     "output_type": "execute_result"
    }
   ],
   "source": [
    "# text\n",
    "element.text"
   ]
  },
  {
   "cell_type": "code",
   "execution_count": 17,
   "metadata": {},
   "outputs": [
    {
     "data": {
      "text/plain": [
       "6"
      ]
     },
     "execution_count": 17,
     "metadata": {},
     "output_type": "execute_result"
    }
   ],
   "source": [
    "# nombre de catégories: getiterator\n",
    "len([node for node in root.getiterator('categorie')])\n",
    "\n",
    "#getiterator renvoi un itérateur / un nom de tag --> Ici 6 catégories"
   ]
  },
  {
   "cell_type": "code",
   "execution_count": 16,
   "metadata": {},
   "outputs": [
    {
     "data": {
      "text/plain": [
       "33"
      ]
     },
     "execution_count": 16,
     "metadata": {},
     "output_type": "execute_result"
    }
   ],
   "source": [
    "# nombre de sous-catégories: getiterator\n",
    "len([node for node in root.getiterator('sousCategorie')])\n",
    "\n",
    "#33 sous catégories"
   ]
  },
  {
   "cell_type": "code",
   "execution_count": 19,
   "metadata": {},
   "outputs": [
    {
     "data": {
      "text/plain": [
       "149"
      ]
     },
     "execution_count": 19,
     "metadata": {},
     "output_type": "execute_result"
    }
   ],
   "source": [
    "# nombre de propositions: getiterator\n",
    "len([node for node in root.getiterator('proposition')])\n",
    "\n",
    "#149 propositions"
   ]
  },
  {
   "cell_type": "code",
   "execution_count": 20,
   "metadata": {},
   "outputs": [
    {
     "name": "stdout",
     "output_type": "stream",
     "text": [
      "Modifications de la Constitution et des institutions\n",
      ">  \n",
      ">>  Ajout d'un alinéa dans le préambule de la Constitution : \"La conciliation des droits, libertés et principes qui en résultent ne saurait compromettre la préservation de l’environnement, patrimoine commun de l’humanité.\"\n",
      ">>  Ajout d'un alinéa dans l'article premier de la Constitution : \"La République garantit la préservation de la biodiversité, de l'environnement et lutte contre le dérèglement climatique.\"\n",
      ">>  Création d'un \"Défenseur de l'environnement\", sur le modèle du Défenseur des droits\n",
      ">>  Renforcement du rôle du CESE, le Conseil Economique Social et Environnemental\n",
      "Se loger\n",
      ">  Sur la rénovation énergétique des bâtiments\n",
      ">>  Contraindre les propriétaires occupants et bailleurs à rénover leurs biens de manière globale\n",
      ">>  Obliger le changement des chaudières au fioul et à charbon d'ici à 2030 dans les bâtiments neufs et rénovés\n",
      ">>  Déployer un réseau harmonisé de guichets uniques\n",
      ">>  Système progressif d'aides à la rénovation, avec prêts et subventions pour les plus démunis\n",
      ">>  Former les professionnels du bâtiment pour répondre à la demande de rénovation globale et assurer une transition de tous les corps de métier du BTP vers des pratiques écoresponsables\n",
      ">  Réduire la consommation d'énergie\n",
      ">>  Contraindre par des mesures fortes les espaces publics et les bâtiments tertiaires à réduire leur consommation d’énergie\n",
      ">>  Changer en profondeur les comportements en incitant les particuliers à réduire leur consommation d'énergie\n",
      ">>  Inciter à limiter le recours au chauffage et à la climatisation dans les logements, les espaces publics et ceux ouverts au public ainsi que les bâtiments tertiaire (température moyenne maximale de 19°, renoncer à la climatisation en deçà de 25°)\n",
      ">  Lutter contre l'artificialisation des sols\n",
      ">>  Définir une enveloppe restrictive du nombre d'hectares maximum pouvant être artificialisés réduisant par 2 l’artificialisation des sols\n",
      ">>  Interdire toute artificialisation des terres tant que des réhabilitations ou friches commerciales, artisanales ou industrielles sont possibles dans l’enveloppe urbaine existante\n",
      ">>  Prendre immédiatement des mesures coercitives pour stopper les aménagements de zones commerciales périurbaines très consommatrices d'espace\n",
      ">>  Protéger fermement et définitivement les espaces naturels, les espaces agricoles périurbains et les forêts périurbaines. S’assurer d’une gestion durable de l’ensemble des forêts privées et publiques. S’assurer de la création de ceintures maraichères autour des pôles\n",
      ">>  Faciliter les changements d’usage des terrains artificialisés non occupés\n",
      ">>  Faciliter les réquisitions de logements et bureaux vacants\n",
      ">>  Faciliter les reprises et réhabilitations des friches, notamment par la possibilité pour les communes d’exproprier les friches délaissées depuis 10 ans ou plus\n",
      ">>  Évaluer le potentiel de réversibilité des bâtiments avant toute démolition\n",
      ">>  Permettre la construction d’immeubles collectifs dans les zones pavillonnaires\n",
      ">>  Renforcer les contrôles du respect des obligations de protection des espaces et de limitation de consommation des terres non urbanisés, sanctionner pénalement les manquements\n",
      ">>  Sensibiliser à l’importance et l’intérêt de la ville plus compacte, et construire une nouvelle culture de l’habitat collectif\n",
      ">>  Financer les rénovations des logements dans les petites communes\n",
      ">>  Rendre les centres plus attractifs par la revitalisation des commerces et le maintien des écoles en milieu rural\n",
      "Se nourrir\n",
      ">  Pour une alimentation plus durable\n",
      ">>  Mettre en place une prime à l'investissement pour les établissements leur permettant de s'équiper en matériel, de former les personnels, de mener des campagnes de sensibilisation afin d'atteindre les objectifs de la loi EGalim\n",
      ">>  Proposer un bonus de 10 cts par repas pour les petites cantines bio et locales (moins de 200 repas par jour) pour les aider à absorber le surcoût les 3 premières années de leur transition\n",
      ">>  Créer un \"observatoire de la restauration collective\" ayant pour objectif de partager les bonnes pratiques et de suivre l’atteinte des objectifs de la loi EGalim\n",
      ">>  Mettre en place un organisme de contrôle pour assurer la bonne mise en œuvre de la loi EGalim\n",
      ">>  Encourager la réflexion pour réécrire l'arrêté du 30 septembre 2011 relatif à la qualité nutritionnelle des repas servis en restauration scolaire\n",
      ">>  Étendre toutes les dispositions de la loi EGalim à la restauration collective privée à partir de 2025\n",
      ">>  Étendre la liste des produits éligibles aux 50% définis par la loi aux agriculteurs en transition vers le bio, et aux produits à faible coût environnemental\n",
      ">>  Aider à la structuration des filières afin qu’elles arrivent à faire reconnaître des produits dans des signes de qualité\n",
      ">>  Rendre les négociations tripartites plus justes pour les agriculteurs. Assurer la présence de la Direction générale de la concurrence, de la consommation et de la répression des fraudes (DGCCRF) dans les négociations, rendre la méthode obligatoire pour toutes les filières et organiser des rendez-vous réguliers à l'échelle des interprofessions, obliger à la transparence, les entreprises agroalimentaires et les centrales d’achats.\n",
      ">>  Utiliser le levier de la commande publique pour valoriser les produits issus de circuits courts, locaux et à faible coût environnemental, sous la forme d’un « guide d’achat » à adresser aux acheteurs publics.\n",
      ">>  Poursuivre les efforts sur la réduction du gaspillage alimentaire en restauration collective et au niveau individuel\n",
      ">  Pour une agriculture plus durable et faiblement émettrice de gaz à effet de serre\n",
      ">>  Atteindre 50% d'exploitations en agroécologie en 2040\n",
      ">>  Développer l'agriculture biologique (maintenir l'aide à la conversion, restaurer l'aide au maintien de l'agriculture biologique, faire supporter le coût de certification annuelle du label par l'État)\n",
      ">>  Engrais azotés : augmenter de la Taxe Générale sur les Activités Polluantes (TGAP)\n",
      ">>  Diminution de l’usage des pesticides avec une interdiction des produits CMR, diminution de l’usage des produits phytopharmaceutiques de 50% d’ici 2025 et interdiction des pesticides les plus dommageable pour l’environnement en 2035 \n",
      ">>  Aider à la structuration de la filière des protéagineux (augmentation de l'autonomie du cheptel animal français, 100% d'autonomie pour l'alimentation humaine en protéines végétales, accroissement de la diversification des cultures dans la PAC, mise en œuvre du Plan Protéines Végétales national)\n",
      ">>  Aider au maintien des prairies permanentes (éviter au maximum les terres nues en mettant en place un couvert végétal obligatoire, rémunérer les services rendus par les agriculteurs pour le stockage de carbone par leurs activités)\n",
      ">>  Interdire le financement d'implantation de nouveaux élevages qui ne respectent pas les conditions d'agroécologie et de faibles émissions de gaz à effet de serre, accompagner les éleveurs vers une restructuration de leurs cheptels pour améliorer la qualité de production\n",
      ">>  Réformer l'enseignement et la formation agricole : intégrer au tronc commun obligatoire l'enseignement de l'agroécologie, imposer des stages dans des exploitations qui appliquent les méthodes de l'agroécologie, ouvrir la formation continue sur les pratiques agroécologiques pour tous les agriculteurs, former les conseillers techniques aux pratiques de l'agroécologie.\n",
      ">>  Relever les niveaux d’exigences des conditions de verdissement\n",
      ">>  Transformer l’attribution des aides à l’hectare de la PAC vers des aides à l’actif agricole\n",
      ">>  Mettre en place un mécanisme de suivi et d’évaluation de l'atteinte de la performance climat du Plan Stratégique National (PSN)\n",
      ">>  Mettre en compatibilité le Plan Stratégique National (PSN)avec la Stratégie Nationale Bas Carbone (SNBC), la Stratégie Nationale pour la Biodiversité, le Plan National Santé Environnement, la Stratégie Nationale de lutte contre la Déforestation Importée (SNDI)\n",
      ">>  Intégrer toutes les dispositions concernant le développement de l'agroécologie au Plan Stratégique National (PSN)\n",
      ">  Pour une pêche à faible émission de gaz à effet de serre\n",
      ">>  Améliorer la connaissance des stocks/déplacements de poissons pour mieux définir les quotas et éliminer la surpêche\n",
      ">>  Poursuivre les efforts de limitation de la pêche dans les zones et pour les stocks fragiles, et affermir les contrôles sur l'interdiction de la pêche en eau profonde\n",
      ">>  Développer les fermes aquacoles raisonnées et respectueuses de l'environnement, afin d'éviter de pêcher les poissons dans leur milieu naturel\n",
      ">>  Protéger la capacité des océans à stocker du carbone, notamment en protégeant les baleines et les espèces marines\n",
      ">>  Diminuer les émissions de gaz à effet de serre dues à la pêche et au transport maritime en poursuivant la modernisation de la flotte de bateaux vers des systèmes de propulsion vert\n",
      ">  Pour un modèle de politique commerciale d'avenir\n",
      ">>  Renégocier le CETA au niveau européen pour y intégrer les objectifs climatiques de l’accord de Paris.\n",
      ">>  Demander au gouvernement français de défendre une réforme politique commerciale européenne : inscrire le principe de précaution dans les accords commerciaux, inscrire le respect des engagements de l'accord de Paris comme objectifs contraignants, mettre fin aux tribunaux d'arbitrage privés, garantir la transparence et permettre le contrôle démocratique des négociations.\n",
      ">>  Demander au gouvernement français de défendre des positions auprès de l'OMC : prendre en considération les accords de Paris dans les négociations commerciales, mise en place de sanctions pour les États récalcitrants, inclure les clauses environnementales dans les négociations d'accords commerciaux.\n",
      ">  Mieux informer les consommateurs\n",
      ">>  Mieux informer le consommateur en renforçant la communication autour du Plan National Nutrition Santé Climat (PNNSC)\n",
      ">>  Interdire la publicité sur les produits proscrits par le PNNS\n",
      ">>  Concevoir une nouvelle solidarité nationale alimentaire pour permettre aux ménages modestes d’avoir accès à une alimentation durable\n",
      ">>  Réformer le fonctionnement des labels en supprimant les labels privés et en mettant en place un label pour les produits issus de l’agriculture agro écologique\n",
      ">  Mettre l'éthique au coeur de notre alimentation\n",
      ">>  Informer les consommateurs du degré de transformation des produits, notamment via un étiquetage obligatoire et la mise en place d’une charte éthique agroalimentaire qui renseigne et qualifie en termes de gaz à effet de serre les auxiliaires techniques et les additifs alimentaires. Informer rapidement et manière obligatoire sur les accidents alimentaires\n",
      ">>  Interdire l'importation des produits qui sont composés d'auxiliaires technologiques proscrits par l'Union européenne\n",
      ">>  Interdire progressivement l'usage des auxiliaires de production et des additifs alimentaires sous 5 ans\n",
      ">>  Taxer les produits ultra transformés à forte empreinte carbone et faible apport nutritionnel\n",
      ">>  Mettre en place des chèques alimentaires pour les plus démunis à utiliser dans les AMAP ou pour des produits bios\n",
      ">  Légiférer sur le crime d'écocide\n",
      ">>  Adopter une loi qui pénalise le crime d'écocide dans le cadre des 9 limites planétaires, et qui intègre le devoir de vigilance et le délit d'imprudence, dont la mise en œuvre est garantie par la Haute Autorité des Limites Planétaires\n",
      "Consommer\n",
      ">  Affichage\n",
      ">>  Développer puis mettre en place un score carbone sur tous les produits de consommation et les services\n",
      ">>  Rendre obligatoire l’affichage des émissions de gaz à effet de serre dans les commerces et lieux de consommation ainsi que dans les publicités pour les marques\n",
      ">  Publicité\n",
      ">>  Interdire de manière efficace et opérante la publicité des produits les plus émetteurs de GES, sur tous les supports publicitaires\n",
      ">>  Réguler la publicité pour limiter fortement les incitations quotidiennes et non choisies à la consommation\n",
      ">>  Mettre en place des mentions pour inciter à moins consommer\n",
      ">  Suremballage\n",
      ">>  Mettre en place progressivement une obligation de l’implantation du vrac dans tous les magasins et l’imposition d’un pourcentage aux centrales d’achat\n",
      ">>  Mise en place progressive d’un système de consigne de verre (lavable et réutilisable) jusqu’à une mise en place généralisée en 2025\n",
      ">>  Favoriser le développement les emballages biosourcés compostables pour assurer la transition avant la fin de l’emballage plastique à usage unique\n",
      ">>  Remplacer une part significative de la Taxe d’Enlèvement des Ordures Ménagères (TEOM) par des modalités plus justes et favorisant les comportements écoresponsables\n",
      ">  Education\n",
      ">>  Modifier le code de l’éducation pour une généralisation de l’éducation à l’environnement et au développement durable (EEDD) dans le modèle scolaire français\n",
      ">>  Renforcer les modalités d’éducation à l’environnement et au développement durable en en faisant une mission transversale des enseignants\n",
      ">>  Sensibiliser l'ensemble de la population française en reliant compréhension de l’urgence climatique et passage à l’action\n",
      ">  Suivi et contrôle des politiques publiques environnementales\n",
      ">>  Contrôler et sanctionner plus efficacement et rapidement les atteintes aux règles en matière environnementale\n",
      ">>  Renforcer et centraliser l’évaluation et le suivi des politiques publiques en matière environnementale\n",
      "Se déplacer\n",
      ">  Sortir de l'usage de la voiture en solo\n",
      ">>  Inciter à utiliser des moyens de transports doux ou partagés, notamment pour les trajets domicile-travail, en généralisant et en améliorant le forfait mobilité durable, prévue par la récente loi d’orientation des mobilités\n",
      ">>  Réduire les incitations à l’utilisation de la voiture en réformant le système d’indemnité kilométrique de l’impôt sur le revenu\n",
      ">>  Inciter à utiliser des moyens de transports doux ou partagés\n",
      ">  Aménagements de la voie publique\n",
      ">>  Créer des parkings relais\n",
      ">>  Interdire les centres villes pour les véhicules les plus émetteurs de gaz à effet de serre\n",
      ">>  Augmenter les montants du Fonds Vélo de 50 à 200 millions d’euros par an pour financer des pistes cyclables\n",
      ">>  Généraliser les aménagements de voies réservées aux véhicules partagés et aux transports collectifs sur les autoroutes et voies rapides\n",
      ">  Réduire les émissions de gaz à effet de serre sur les autoroutes et voies rapides\n",
      ">>  Réduire la vitesse sur autoroute à 110 km/h maximum\n",
      ">  Retour fort à l'usage du train\n",
      ">>  Réduire la TVA sur les billets de train de 10% à 5,5%\n",
      ">>  Généraliser les mesures tarifaires attractives déjà pratiquées par certaines régions\n",
      ">>  Développer un plan d’investissement massif pour moderniser les infrastructures, les matériels roulants et les gares pour en faire des pôles multimodaux (lien avec les voitures, cars, vélos...)\n",
      ">  Réduire le transport routier de marchandises\n",
      ">>  Développer les autoroutes de fret maritime (et fluvial), sur des trajets déterminés\n",
      ">>  Imposer un suivi régulier de la formation des chauffeurs à l’écoconduite\n",
      ">>  Imposer aux constructeurs de poids lourds d’adopter la même filière énergétique dans leur recherche et développement\n",
      ">>  Sortir progressivement des avantages fiscaux sur le gazole, en échange de compensations fortes pour les transporteurs sous forme d’aides au financement accrues pour l’achat de poids-lourds neufs plus propres en remplacement des poids lourds polluants\n",
      ">>  Inciter, par des obligations réglementaires et fiscales, au report partiel vers d’autres moyens de transport de marchandises moins émetteurs\n",
      ">>  Obliger les chargeurs à intégrer des clauses environnementales\n",
      ">>  Favoriser le transport de marchandises sur des circuits courts par une modulation de la TVA\n",
      ">  Réduire à zéro les émissions des navires dans les ports\n",
      ">>  Interdire l’usage des moteurs polluants lors des arrêts dans les ports\n",
      ">>  Mettre à disposition les moyens d’alimenter en électricité les navires à quai pour permettre une réduction des émissions liées à l’usage des moteurs\n",
      ">>  Agir sur la réglementation internationale pour encadrer les émissions des gaz à effet de serre des navires\n",
      ">  Transition vers un parc de véhicules plus propre\n",
      ">>  Augmenter le bonus pour les véhicules peu polluants, afin d’aider davantage les ménages et les professionnels dans leur évolution\n",
      ">>  Renforcer très fortement le malus sur les véhicules polluants et introduire le poids comme un des critères à prendre en compte\n",
      ">>  Interdire dès 2025 la commercialisation de véhicules neufs très émetteurs ; les véhicules anciens pouvant continuer de circuler\n",
      ">>  Moduler les taxes sur les contrats d’assurance en fonction de l’émission de CO2 pour encourager les véhicules propres\n",
      ">>  Permettre l’accès à des véhicules propres en développant la location de longue durée\n",
      ">>  Proposer des prêts à taux zéro, avec la garantie de l’État, pour l’achat d’un véhicule peu émetteur\n",
      ">>  Créer des vignettes vertes à positionner sur les plaques d’immatriculation pour les véhicules les plus propres et donnant accès à des services particuliers : accès au centre-ville, places de parking, etc.\n",
      ">>  Prévoir un plan de formation pour les garagistes, et plus largement de la filière « pétrole », pour accompagner la transformation progressive du parc automobile (nouveaux moteurs, carburants, systèmes)\n",
      ">  Mieux organiser les déplacements avec les entreprises et les administrations\n",
      ">>  Renforcer les plans de mobilité en les rendant obligatoires pour toutes les entreprises\n",
      ">>  Les Autorités organisatrices de la mobilité (AOM) peuvent aider à mettre en place ces plans de mobilité en accompagnant les entreprises\n",
      ">>  Favoriser les plans interentreprises et intra-entreprise (covoiturage, ramassage des salariés en bus, vélo ...) dans le cadre des plans de mobilité\n",
      ">>  Favoriser des nouvelles modalités d’organisation du travail\n",
      ">  Portail unique sur les dispositifs et moyens de transport sur un territoire\n",
      ">>  Mettre en place un portail unique permettant de savoir à tout moment, rapidement et simplement, quels sont les moyens et dispositifs existants sur un territoire pour se déplacer\n",
      ">>  Développer un projet d’unification des titres de transport ou de carte multimodale\n",
      ">  Autorités organisatrices de la mobilité\n",
      ">>  Intégrer les citoyens aux Autorités organisatrices de la mobilité à toutes les échelles\n",
      ">  Limiter les effets néfastes du transport aérien\n",
      ">>  Adopter une écocontribution kilométrique renforcée\n",
      ">>  Organiser progressivement la fin du trafic aérien sur les vols intérieurs d’ici 2025, uniquement sur les lignes où il existe une alternative bas carbone satisfaisante en prix et en temps (sur un trajet de moins de 4h)\n",
      ">>  Interdire la construction de nouveaux aéroports et l’extension des aéroports existants\n",
      ">>  Taxer davantage le carburant pour l'aviation de loisir\n",
      ">>  Promouvoir l’idée d’une écocontribution européenne\n",
      ">>  Garantir que l’ensemble des émissions qui ne pourraient être éliminées soient intégralement compensées par des puits de carbone\n",
      ">>  Soutenir, à moyen terme, la R&D dans le développement d’une filière biocarburants pour les avions\n",
      "Produire et travailler\n",
      ">  Transformer l'outil de production\n",
      ">>  Augmenter la longévité des produits et réduire la pollution\n",
      ">>  Faire respecter la loi sur l’interdiction de l’obsolescence programmée\n",
      ">>  Rendre obligatoire la possibilité de réparation des produits manufacturés qui sont vendus en France (1), la disponibilité des pièces détachées d’origine pendant une durée définie (2). Mettre en place et à proximité des filières et ateliers de réparation, et rendre accessibles les services après-vente (3)\n",
      ">>  Rendre obligatoire le recyclage de tous les objets en plastique dès 2023. Supprimer tous les plastiques à usage unique dès 2023 – Développer le recyclage des autres matières\n",
      ">>  Durcir et appliquer la réglementation sur la gestion des déchets\n",
      ">  Soutenir l'innovation\n",
      ">>  D’ici 2025 tout soutien à l’innovation doit s’inscrire dans une logique de sortie d’un modèle basé sur le carbone\n",
      ">  Soutenir le financement de la transformation de l'outil de production\n",
      ">>  Réglementer l'utilisation de l'épargne réglementée gérée par la Caisse des Dépôts et Consignations (CDC) et les banques pour financer des investissements verts\n",
      ">>  Faire évoluer la gouvernance de la CDC pour soutenir cette logique\n",
      ">>  Les entreprises qui distribuent plus de 10M€ de dividendes annuels participeront à l’effort de financement collectif de la transition écologique, à hauteur de 4 % du montant des dividendes distribués, chaque année\n",
      ">>  Mettre en place les modalités de financement par loi ou décret avec un emprunt d’État dédié au financement de la transformation des entreprises\n",
      ">  Transformer l'emploi\n",
      ">>  Accompagner les salariés et les entreprises dans la transition\n",
      ">>  Créer une nouvelle gouvernance de la transition des emplois et compétences au niveau national et régional\n",
      ">>  Réduire le temps de travail sans perte de salaire dans un objectif de sobriété et de réduction de gaz à effet de serre\n",
      ">  Renforcer les obligations relatives à la préservation de l'environnement\n",
      ">>  Annualiser le reporting et l'étendre à toutes les organisations - champ d'émissions au scope 3 - Sanction pour non-réalisation en % du chiffre d'affaire\n",
      ">>  Élargir le périmètre de reporting au secteur financier\n",
      ">>  Renforcer les obligations de rapportage au secteur de la finance\n",
      ">>  Bonus pour les entreprises ayant une évolution positive\n",
      ">>  Conditionner les aides publiques à l'évolution positive du bilan gaz à effet de serre\n",
      ">>  Renforcer les clauses environnementales dans les marchés publics\n",
      ">>  Protection des écosystèmes et de la biodiversité\n",
      ">>  Ajustement carbone aux frontières de l’UE (en fonction de l'empreinte carbone) et prise en compte les enjeux de redistribution pour éviter de peser sur les ménages les moins favorisés\n",
      ">  Production, stockage et sobriété énergétique\n",
      ">>  Amélioration de la gouvernance territoriale/régionale\n",
      ">>  Participation des citoyens, entreprises locales, associations locales et collectivités locales aux projets énergies renouvelables (EnR)\n",
      ">>  Développement de l’autoconsommation\n",
      ">>  Accompagner l’évolution du numérique pour réduire ses impacts environnementaux\n"
     ]
    }
   ],
   "source": [
    "# print categorie / sousCategorie / proposition\n",
    "for node_categorie in root.getiterator('categorie'):\n",
    "    \n",
    "    print(node_categorie.attrib['titre'])\n",
    "    \n",
    "    for node_sousCategorie in node_categorie.getiterator('sousCategorie'):\n",
    "        \n",
    "        print('> ', node_sousCategorie.attrib['titre'])\n",
    "        \n",
    "        for node_proposition in node_sousCategorie.getiterator('proposition'):\n",
    "            \n",
    "            print('>> ', node_proposition.text)\n",
    "            \n",
    "            \n",
    "#Parcours toutes les catégories, les sous-cat, et les propositions"
   ]
  },
  {
   "cell_type": "code",
   "execution_count": 22,
   "metadata": {},
   "outputs": [
    {
     "data": {
      "text/html": [
       "<div>\n",
       "<style scoped>\n",
       "    .dataframe tbody tr th:only-of-type {\n",
       "        vertical-align: middle;\n",
       "    }\n",
       "\n",
       "    .dataframe tbody tr th {\n",
       "        vertical-align: top;\n",
       "    }\n",
       "\n",
       "    .dataframe thead th {\n",
       "        text-align: right;\n",
       "    }\n",
       "</style>\n",
       "<table border=\"1\" class=\"dataframe\">\n",
       "  <thead>\n",
       "    <tr style=\"text-align: right;\">\n",
       "      <th></th>\n",
       "      <th>a</th>\n",
       "      <th>b</th>\n",
       "      <th>c</th>\n",
       "    </tr>\n",
       "  </thead>\n",
       "  <tbody>\n",
       "    <tr>\n",
       "      <th>0</th>\n",
       "      <td>1</td>\n",
       "      <td>2</td>\n",
       "      <td>NaN</td>\n",
       "    </tr>\n",
       "    <tr>\n",
       "      <th>1</th>\n",
       "      <td>3</td>\n",
       "      <td>4</td>\n",
       "      <td>NaN</td>\n",
       "    </tr>\n",
       "    <tr>\n",
       "      <th>2</th>\n",
       "      <td>5</td>\n",
       "      <td>6</td>\n",
       "      <td>7.0</td>\n",
       "    </tr>\n",
       "  </tbody>\n",
       "</table>\n",
       "</div>"
      ],
      "text/plain": [
       "   a  b    c\n",
       "0  1  2  NaN\n",
       "1  3  4  NaN\n",
       "2  5  6  7.0"
      ]
     },
     "execution_count": 22,
     "metadata": {},
     "output_type": "execute_result"
    }
   ],
   "source": [
    "# fabrication d'un DataFrame à partir d'une liste de dict\n",
    "liste = [\n",
    "        {'a': 1, 'b': 2},\n",
    "        {'a': 3, 'b': 4},\n",
    "        {'a': 5, 'b': 6, 'c':7},\n",
    "]\n",
    "\n",
    "pd.DataFrame(liste)\n",
    "#Donne un DF\n",
    "#Possibilité de forcer l'ajout d'une colonne avec une valeur, le reste sera NaN par défaut"
   ]
  },
  {
   "cell_type": "code",
   "execution_count": 24,
   "metadata": {},
   "outputs": [
    {
     "data": {
      "text/plain": [
       "[{'categorie': 'Modifications de la Constitution et des institutions',\n",
       "  'sousCategorie': '',\n",
       "  'proposition': 'Ajout d\\'un alinéa dans le préambule de la Constitution : \"La conciliation des droits, libertés et principes qui en résultent ne saurait compromettre la préservation de l’environnement, patrimoine commun de l’humanité.\"'},\n",
       " {'categorie': 'Modifications de la Constitution et des institutions',\n",
       "  'sousCategorie': '',\n",
       "  'proposition': 'Ajout d\\'un alinéa dans l\\'article premier de la Constitution : \"La République garantit la préservation de la biodiversité, de l\\'environnement et lutte contre le dérèglement climatique.\"'},\n",
       " {'categorie': 'Modifications de la Constitution et des institutions',\n",
       "  'sousCategorie': '',\n",
       "  'proposition': 'Création d\\'un \"Défenseur de l\\'environnement\", sur le modèle du Défenseur des droits'},\n",
       " {'categorie': 'Modifications de la Constitution et des institutions',\n",
       "  'sousCategorie': '',\n",
       "  'proposition': 'Renforcement du rôle du CESE, le Conseil Economique Social et Environnemental'},\n",
       " {'categorie': 'Se loger',\n",
       "  'sousCategorie': 'Sur la rénovation énergétique des bâtiments',\n",
       "  'proposition': 'Contraindre les propriétaires occupants et bailleurs à rénover leurs biens de manière globale'},\n",
       " {'categorie': 'Se loger',\n",
       "  'sousCategorie': 'Sur la rénovation énergétique des bâtiments',\n",
       "  'proposition': \"Obliger le changement des chaudières au fioul et à charbon d'ici à 2030 dans les bâtiments neufs et rénovés\"},\n",
       " {'categorie': 'Se loger',\n",
       "  'sousCategorie': 'Sur la rénovation énergétique des bâtiments',\n",
       "  'proposition': 'Déployer un réseau harmonisé de guichets uniques'},\n",
       " {'categorie': 'Se loger',\n",
       "  'sousCategorie': 'Sur la rénovation énergétique des bâtiments',\n",
       "  'proposition': \"Système progressif d'aides à la rénovation, avec prêts et subventions pour les plus démunis\"},\n",
       " {'categorie': 'Se loger',\n",
       "  'sousCategorie': 'Sur la rénovation énergétique des bâtiments',\n",
       "  'proposition': 'Former les professionnels du bâtiment pour répondre à la demande de rénovation globale et assurer une transition de tous les corps de métier du BTP vers des pratiques écoresponsables'},\n",
       " {'categorie': 'Se loger',\n",
       "  'sousCategorie': \"Réduire la consommation d'énergie\",\n",
       "  'proposition': 'Contraindre par des mesures fortes les espaces publics et les bâtiments tertiaires à réduire leur consommation d’énergie'},\n",
       " {'categorie': 'Se loger',\n",
       "  'sousCategorie': \"Réduire la consommation d'énergie\",\n",
       "  'proposition': \"Changer en profondeur les comportements en incitant les particuliers à réduire leur consommation d'énergie\"},\n",
       " {'categorie': 'Se loger',\n",
       "  'sousCategorie': \"Réduire la consommation d'énergie\",\n",
       "  'proposition': 'Inciter à limiter le recours au chauffage et à la climatisation dans les logements, les espaces publics et ceux ouverts au public ainsi que les bâtiments tertiaire (température moyenne maximale de 19°, renoncer à la climatisation en deçà de 25°)'},\n",
       " {'categorie': 'Se loger',\n",
       "  'sousCategorie': \"Lutter contre l'artificialisation des sols\",\n",
       "  'proposition': \"Définir une enveloppe restrictive du nombre d'hectares maximum pouvant être artificialisés réduisant par 2 l’artificialisation des sols\"},\n",
       " {'categorie': 'Se loger',\n",
       "  'sousCategorie': \"Lutter contre l'artificialisation des sols\",\n",
       "  'proposition': 'Interdire toute artificialisation des terres tant que des réhabilitations ou friches commerciales, artisanales ou industrielles sont possibles dans l’enveloppe urbaine existante'},\n",
       " {'categorie': 'Se loger',\n",
       "  'sousCategorie': \"Lutter contre l'artificialisation des sols\",\n",
       "  'proposition': \"Prendre immédiatement des mesures coercitives pour stopper les aménagements de zones commerciales périurbaines très consommatrices d'espace\"},\n",
       " {'categorie': 'Se loger',\n",
       "  'sousCategorie': \"Lutter contre l'artificialisation des sols\",\n",
       "  'proposition': 'Protéger fermement et définitivement les espaces naturels, les espaces agricoles périurbains et les forêts périurbaines. S’assurer d’une gestion durable de l’ensemble des forêts privées et publiques. S’assurer de la création de ceintures maraichères autour des pôles'},\n",
       " {'categorie': 'Se loger',\n",
       "  'sousCategorie': \"Lutter contre l'artificialisation des sols\",\n",
       "  'proposition': 'Faciliter les changements d’usage des terrains artificialisés non occupés'},\n",
       " {'categorie': 'Se loger',\n",
       "  'sousCategorie': \"Lutter contre l'artificialisation des sols\",\n",
       "  'proposition': 'Faciliter les réquisitions de logements et bureaux vacants'},\n",
       " {'categorie': 'Se loger',\n",
       "  'sousCategorie': \"Lutter contre l'artificialisation des sols\",\n",
       "  'proposition': 'Faciliter les reprises et réhabilitations des friches, notamment par la possibilité pour les communes d’exproprier les friches délaissées depuis 10 ans ou plus'},\n",
       " {'categorie': 'Se loger',\n",
       "  'sousCategorie': \"Lutter contre l'artificialisation des sols\",\n",
       "  'proposition': 'Évaluer le potentiel de réversibilité des bâtiments avant toute démolition'},\n",
       " {'categorie': 'Se loger',\n",
       "  'sousCategorie': \"Lutter contre l'artificialisation des sols\",\n",
       "  'proposition': 'Permettre la construction d’immeubles collectifs dans les zones pavillonnaires'},\n",
       " {'categorie': 'Se loger',\n",
       "  'sousCategorie': \"Lutter contre l'artificialisation des sols\",\n",
       "  'proposition': 'Renforcer les contrôles du respect des obligations de protection des espaces et de limitation de consommation des terres non urbanisés, sanctionner pénalement les manquements'},\n",
       " {'categorie': 'Se loger',\n",
       "  'sousCategorie': \"Lutter contre l'artificialisation des sols\",\n",
       "  'proposition': 'Sensibiliser à l’importance et l’intérêt de la ville plus compacte, et construire une nouvelle culture de l’habitat collectif'},\n",
       " {'categorie': 'Se loger',\n",
       "  'sousCategorie': \"Lutter contre l'artificialisation des sols\",\n",
       "  'proposition': 'Financer les rénovations des logements dans les petites communes'},\n",
       " {'categorie': 'Se loger',\n",
       "  'sousCategorie': \"Lutter contre l'artificialisation des sols\",\n",
       "  'proposition': 'Rendre les centres plus attractifs par la revitalisation des commerces et le maintien des écoles en milieu rural'},\n",
       " {'categorie': 'Se nourrir',\n",
       "  'sousCategorie': 'Pour une alimentation plus durable',\n",
       "  'proposition': \"Mettre en place une prime à l'investissement pour les établissements leur permettant de s'équiper en matériel, de former les personnels, de mener des campagnes de sensibilisation afin d'atteindre les objectifs de la loi EGalim\"},\n",
       " {'categorie': 'Se nourrir',\n",
       "  'sousCategorie': 'Pour une alimentation plus durable',\n",
       "  'proposition': 'Proposer un bonus de 10 cts par repas pour les petites cantines bio et locales (moins de 200 repas par jour) pour les aider à absorber le surcoût les 3 premières années de leur transition'},\n",
       " {'categorie': 'Se nourrir',\n",
       "  'sousCategorie': 'Pour une alimentation plus durable',\n",
       "  'proposition': 'Créer un \"observatoire de la restauration collective\" ayant pour objectif de partager les bonnes pratiques et de suivre l’atteinte des objectifs de la loi EGalim'},\n",
       " {'categorie': 'Se nourrir',\n",
       "  'sousCategorie': 'Pour une alimentation plus durable',\n",
       "  'proposition': 'Mettre en place un organisme de contrôle pour assurer la bonne mise en œuvre de la loi EGalim'},\n",
       " {'categorie': 'Se nourrir',\n",
       "  'sousCategorie': 'Pour une alimentation plus durable',\n",
       "  'proposition': \"Encourager la réflexion pour réécrire l'arrêté du 30 septembre 2011 relatif à la qualité nutritionnelle des repas servis en restauration scolaire\"},\n",
       " {'categorie': 'Se nourrir',\n",
       "  'sousCategorie': 'Pour une alimentation plus durable',\n",
       "  'proposition': 'Étendre toutes les dispositions de la loi EGalim à la restauration collective privée à partir de 2025'},\n",
       " {'categorie': 'Se nourrir',\n",
       "  'sousCategorie': 'Pour une alimentation plus durable',\n",
       "  'proposition': 'Étendre la liste des produits éligibles aux 50% définis par la loi aux agriculteurs en transition vers le bio, et aux produits à faible coût environnemental'},\n",
       " {'categorie': 'Se nourrir',\n",
       "  'sousCategorie': 'Pour une alimentation plus durable',\n",
       "  'proposition': 'Aider à la structuration des filières afin qu’elles arrivent à faire reconnaître des produits dans des signes de qualité'},\n",
       " {'categorie': 'Se nourrir',\n",
       "  'sousCategorie': 'Pour une alimentation plus durable',\n",
       "  'proposition': \"Rendre les négociations tripartites plus justes pour les agriculteurs. Assurer la présence de la Direction générale de la concurrence, de la consommation et de la répression des fraudes (DGCCRF) dans les négociations, rendre la méthode obligatoire pour toutes les filières et organiser des rendez-vous réguliers à l'échelle des interprofessions, obliger à la transparence, les entreprises agroalimentaires et les centrales d’achats.\"},\n",
       " {'categorie': 'Se nourrir',\n",
       "  'sousCategorie': 'Pour une alimentation plus durable',\n",
       "  'proposition': 'Utiliser le levier de la commande publique pour valoriser les produits issus de circuits courts, locaux et à faible coût environnemental, sous la forme d’un « guide d’achat » à adresser aux acheteurs publics.'},\n",
       " {'categorie': 'Se nourrir',\n",
       "  'sousCategorie': 'Pour une alimentation plus durable',\n",
       "  'proposition': 'Poursuivre les efforts sur la réduction du gaspillage alimentaire en restauration collective et au niveau individuel'},\n",
       " {'categorie': 'Se nourrir',\n",
       "  'sousCategorie': 'Pour une agriculture plus durable et faiblement émettrice de gaz à effet de serre',\n",
       "  'proposition': \"Atteindre 50% d'exploitations en agroécologie en 2040\"},\n",
       " {'categorie': 'Se nourrir',\n",
       "  'sousCategorie': 'Pour une agriculture plus durable et faiblement émettrice de gaz à effet de serre',\n",
       "  'proposition': \"Développer l'agriculture biologique (maintenir l'aide à la conversion, restaurer l'aide au maintien de l'agriculture biologique, faire supporter le coût de certification annuelle du label par l'État)\"},\n",
       " {'categorie': 'Se nourrir',\n",
       "  'sousCategorie': 'Pour une agriculture plus durable et faiblement émettrice de gaz à effet de serre',\n",
       "  'proposition': 'Engrais azotés : augmenter de la Taxe Générale sur les Activités Polluantes (TGAP)'},\n",
       " {'categorie': 'Se nourrir',\n",
       "  'sousCategorie': 'Pour une agriculture plus durable et faiblement émettrice de gaz à effet de serre',\n",
       "  'proposition': 'Diminution de l’usage des pesticides avec une interdiction des produits CMR, diminution de l’usage des produits phytopharmaceutiques de 50% d’ici 2025 et interdiction des pesticides les plus dommageable pour l’environnement en 2035 '},\n",
       " {'categorie': 'Se nourrir',\n",
       "  'sousCategorie': 'Pour une agriculture plus durable et faiblement émettrice de gaz à effet de serre',\n",
       "  'proposition': \"Aider à la structuration de la filière des protéagineux (augmentation de l'autonomie du cheptel animal français, 100% d'autonomie pour l'alimentation humaine en protéines végétales, accroissement de la diversification des cultures dans la PAC, mise en œuvre du Plan Protéines Végétales national)\"},\n",
       " {'categorie': 'Se nourrir',\n",
       "  'sousCategorie': 'Pour une agriculture plus durable et faiblement émettrice de gaz à effet de serre',\n",
       "  'proposition': 'Aider au maintien des prairies permanentes (éviter au maximum les terres nues en mettant en place un couvert végétal obligatoire, rémunérer les services rendus par les agriculteurs pour le stockage de carbone par leurs activités)'},\n",
       " {'categorie': 'Se nourrir',\n",
       "  'sousCategorie': 'Pour une agriculture plus durable et faiblement émettrice de gaz à effet de serre',\n",
       "  'proposition': \"Interdire le financement d'implantation de nouveaux élevages qui ne respectent pas les conditions d'agroécologie et de faibles émissions de gaz à effet de serre, accompagner les éleveurs vers une restructuration de leurs cheptels pour améliorer la qualité de production\"},\n",
       " {'categorie': 'Se nourrir',\n",
       "  'sousCategorie': 'Pour une agriculture plus durable et faiblement émettrice de gaz à effet de serre',\n",
       "  'proposition': \"Réformer l'enseignement et la formation agricole : intégrer au tronc commun obligatoire l'enseignement de l'agroécologie, imposer des stages dans des exploitations qui appliquent les méthodes de l'agroécologie, ouvrir la formation continue sur les pratiques agroécologiques pour tous les agriculteurs, former les conseillers techniques aux pratiques de l'agroécologie.\"},\n",
       " {'categorie': 'Se nourrir',\n",
       "  'sousCategorie': 'Pour une agriculture plus durable et faiblement émettrice de gaz à effet de serre',\n",
       "  'proposition': 'Relever les niveaux d’exigences des conditions de verdissement'},\n",
       " {'categorie': 'Se nourrir',\n",
       "  'sousCategorie': 'Pour une agriculture plus durable et faiblement émettrice de gaz à effet de serre',\n",
       "  'proposition': 'Transformer l’attribution des aides à l’hectare de la PAC vers des aides à l’actif agricole'},\n",
       " {'categorie': 'Se nourrir',\n",
       "  'sousCategorie': 'Pour une agriculture plus durable et faiblement émettrice de gaz à effet de serre',\n",
       "  'proposition': \"Mettre en place un mécanisme de suivi et d’évaluation de l'atteinte de la performance climat du Plan Stratégique National (PSN)\"},\n",
       " {'categorie': 'Se nourrir',\n",
       "  'sousCategorie': 'Pour une agriculture plus durable et faiblement émettrice de gaz à effet de serre',\n",
       "  'proposition': 'Mettre en compatibilité le Plan Stratégique National (PSN)avec la Stratégie Nationale Bas Carbone (SNBC), la Stratégie Nationale pour la Biodiversité, le Plan National Santé Environnement, la Stratégie Nationale de lutte contre la Déforestation Importée (SNDI)'},\n",
       " {'categorie': 'Se nourrir',\n",
       "  'sousCategorie': 'Pour une agriculture plus durable et faiblement émettrice de gaz à effet de serre',\n",
       "  'proposition': \"Intégrer toutes les dispositions concernant le développement de l'agroécologie au Plan Stratégique National (PSN)\"},\n",
       " {'categorie': 'Se nourrir',\n",
       "  'sousCategorie': 'Pour une pêche à faible émission de gaz à effet de serre',\n",
       "  'proposition': 'Améliorer la connaissance des stocks/déplacements de poissons pour mieux définir les quotas et éliminer la surpêche'},\n",
       " {'categorie': 'Se nourrir',\n",
       "  'sousCategorie': 'Pour une pêche à faible émission de gaz à effet de serre',\n",
       "  'proposition': \"Poursuivre les efforts de limitation de la pêche dans les zones et pour les stocks fragiles, et affermir les contrôles sur l'interdiction de la pêche en eau profonde\"},\n",
       " {'categorie': 'Se nourrir',\n",
       "  'sousCategorie': 'Pour une pêche à faible émission de gaz à effet de serre',\n",
       "  'proposition': \"Développer les fermes aquacoles raisonnées et respectueuses de l'environnement, afin d'éviter de pêcher les poissons dans leur milieu naturel\"},\n",
       " {'categorie': 'Se nourrir',\n",
       "  'sousCategorie': 'Pour une pêche à faible émission de gaz à effet de serre',\n",
       "  'proposition': 'Protéger la capacité des océans à stocker du carbone, notamment en protégeant les baleines et les espèces marines'},\n",
       " {'categorie': 'Se nourrir',\n",
       "  'sousCategorie': 'Pour une pêche à faible émission de gaz à effet de serre',\n",
       "  'proposition': 'Diminuer les émissions de gaz à effet de serre dues à la pêche et au transport maritime en poursuivant la modernisation de la flotte de bateaux vers des systèmes de propulsion vert'},\n",
       " {'categorie': 'Se nourrir',\n",
       "  'sousCategorie': \"Pour un modèle de politique commerciale d'avenir\",\n",
       "  'proposition': 'Renégocier le CETA au niveau européen pour y intégrer les objectifs climatiques de l’accord de Paris.'},\n",
       " {'categorie': 'Se nourrir',\n",
       "  'sousCategorie': \"Pour un modèle de politique commerciale d'avenir\",\n",
       "  'proposition': \"Demander au gouvernement français de défendre une réforme politique commerciale européenne : inscrire le principe de précaution dans les accords commerciaux, inscrire le respect des engagements de l'accord de Paris comme objectifs contraignants, mettre fin aux tribunaux d'arbitrage privés, garantir la transparence et permettre le contrôle démocratique des négociations.\"},\n",
       " {'categorie': 'Se nourrir',\n",
       "  'sousCategorie': \"Pour un modèle de politique commerciale d'avenir\",\n",
       "  'proposition': \"Demander au gouvernement français de défendre des positions auprès de l'OMC : prendre en considération les accords de Paris dans les négociations commerciales, mise en place de sanctions pour les États récalcitrants, inclure les clauses environnementales dans les négociations d'accords commerciaux.\"},\n",
       " {'categorie': 'Se nourrir',\n",
       "  'sousCategorie': 'Mieux informer les consommateurs',\n",
       "  'proposition': 'Mieux informer le consommateur en renforçant la communication autour du Plan National Nutrition Santé Climat (PNNSC)'},\n",
       " {'categorie': 'Se nourrir',\n",
       "  'sousCategorie': 'Mieux informer les consommateurs',\n",
       "  'proposition': 'Interdire la publicité sur les produits proscrits par le PNNS'},\n",
       " {'categorie': 'Se nourrir',\n",
       "  'sousCategorie': 'Mieux informer les consommateurs',\n",
       "  'proposition': 'Concevoir une nouvelle solidarité nationale alimentaire pour permettre aux ménages modestes d’avoir accès à une alimentation durable'},\n",
       " {'categorie': 'Se nourrir',\n",
       "  'sousCategorie': 'Mieux informer les consommateurs',\n",
       "  'proposition': 'Réformer le fonctionnement des labels en supprimant les labels privés et en mettant en place un label pour les produits issus de l’agriculture agro écologique'},\n",
       " {'categorie': 'Se nourrir',\n",
       "  'sousCategorie': \"Mettre l'éthique au coeur de notre alimentation\",\n",
       "  'proposition': 'Informer les consommateurs du degré de transformation des produits, notamment via un étiquetage obligatoire et la mise en place d’une charte éthique agroalimentaire qui renseigne et qualifie en termes de gaz à effet de serre les auxiliaires techniques et les additifs alimentaires. Informer rapidement et manière obligatoire sur les accidents alimentaires'},\n",
       " {'categorie': 'Se nourrir',\n",
       "  'sousCategorie': \"Mettre l'éthique au coeur de notre alimentation\",\n",
       "  'proposition': \"Interdire l'importation des produits qui sont composés d'auxiliaires technologiques proscrits par l'Union européenne\"},\n",
       " {'categorie': 'Se nourrir',\n",
       "  'sousCategorie': \"Mettre l'éthique au coeur de notre alimentation\",\n",
       "  'proposition': \"Interdire progressivement l'usage des auxiliaires de production et des additifs alimentaires sous 5 ans\"},\n",
       " {'categorie': 'Se nourrir',\n",
       "  'sousCategorie': \"Mettre l'éthique au coeur de notre alimentation\",\n",
       "  'proposition': 'Taxer les produits ultra transformés à forte empreinte carbone et faible apport nutritionnel'},\n",
       " {'categorie': 'Se nourrir',\n",
       "  'sousCategorie': \"Mettre l'éthique au coeur de notre alimentation\",\n",
       "  'proposition': 'Mettre en place des chèques alimentaires pour les plus démunis à utiliser dans les AMAP ou pour des produits bios'},\n",
       " {'categorie': 'Se nourrir',\n",
       "  'sousCategorie': \"Légiférer sur le crime d'écocide\",\n",
       "  'proposition': \"Adopter une loi qui pénalise le crime d'écocide dans le cadre des 9 limites planétaires, et qui intègre le devoir de vigilance et le délit d'imprudence, dont la mise en œuvre est garantie par la Haute Autorité des Limites Planétaires\"},\n",
       " {'categorie': 'Consommer',\n",
       "  'sousCategorie': 'Affichage',\n",
       "  'proposition': 'Développer puis mettre en place un score carbone sur tous les produits de consommation et les services'},\n",
       " {'categorie': 'Consommer',\n",
       "  'sousCategorie': 'Affichage',\n",
       "  'proposition': 'Rendre obligatoire l’affichage des émissions de gaz à effet de serre dans les commerces et lieux de consommation ainsi que dans les publicités pour les marques'},\n",
       " {'categorie': 'Consommer',\n",
       "  'sousCategorie': 'Publicité',\n",
       "  'proposition': 'Interdire de manière efficace et opérante la publicité des produits les plus émetteurs de GES, sur tous les supports publicitaires'},\n",
       " {'categorie': 'Consommer',\n",
       "  'sousCategorie': 'Publicité',\n",
       "  'proposition': 'Réguler la publicité pour limiter fortement les incitations quotidiennes et non choisies à la consommation'},\n",
       " {'categorie': 'Consommer',\n",
       "  'sousCategorie': 'Publicité',\n",
       "  'proposition': 'Mettre en place des mentions pour inciter à moins consommer'},\n",
       " {'categorie': 'Consommer',\n",
       "  'sousCategorie': 'Suremballage',\n",
       "  'proposition': 'Mettre en place progressivement une obligation de l’implantation du vrac dans tous les magasins et l’imposition d’un pourcentage aux centrales d’achat'},\n",
       " {'categorie': 'Consommer',\n",
       "  'sousCategorie': 'Suremballage',\n",
       "  'proposition': 'Mise en place progressive d’un système de consigne de verre (lavable et réutilisable) jusqu’à une mise en place généralisée en 2025'},\n",
       " {'categorie': 'Consommer',\n",
       "  'sousCategorie': 'Suremballage',\n",
       "  'proposition': 'Favoriser le développement les emballages biosourcés compostables pour assurer la transition avant la fin de l’emballage plastique à usage unique'},\n",
       " {'categorie': 'Consommer',\n",
       "  'sousCategorie': 'Suremballage',\n",
       "  'proposition': 'Remplacer une part significative de la Taxe d’Enlèvement des Ordures Ménagères (TEOM) par des modalités plus justes et favorisant les comportements écoresponsables'},\n",
       " {'categorie': 'Consommer',\n",
       "  'sousCategorie': 'Education',\n",
       "  'proposition': 'Modifier le code de l’éducation pour une généralisation de l’éducation à l’environnement et au développement durable (EEDD) dans le modèle scolaire français'},\n",
       " {'categorie': 'Consommer',\n",
       "  'sousCategorie': 'Education',\n",
       "  'proposition': 'Renforcer les modalités d’éducation à l’environnement et au développement durable en en faisant une mission transversale des enseignants'},\n",
       " {'categorie': 'Consommer',\n",
       "  'sousCategorie': 'Education',\n",
       "  'proposition': \"Sensibiliser l'ensemble de la population française en reliant compréhension de l’urgence climatique et passage à l’action\"},\n",
       " {'categorie': 'Consommer',\n",
       "  'sousCategorie': 'Suivi et contrôle des politiques publiques environnementales',\n",
       "  'proposition': 'Contrôler et sanctionner plus efficacement et rapidement les atteintes aux règles en matière environnementale'},\n",
       " {'categorie': 'Consommer',\n",
       "  'sousCategorie': 'Suivi et contrôle des politiques publiques environnementales',\n",
       "  'proposition': 'Renforcer et centraliser l’évaluation et le suivi des politiques publiques en matière environnementale'},\n",
       " {'categorie': 'Se déplacer',\n",
       "  'sousCategorie': \"Sortir de l'usage de la voiture en solo\",\n",
       "  'proposition': 'Inciter à utiliser des moyens de transports doux ou partagés, notamment pour les trajets domicile-travail, en généralisant et en améliorant le forfait mobilité durable, prévue par la récente loi d’orientation des mobilités'},\n",
       " {'categorie': 'Se déplacer',\n",
       "  'sousCategorie': \"Sortir de l'usage de la voiture en solo\",\n",
       "  'proposition': 'Réduire les incitations à l’utilisation de la voiture en réformant le système d’indemnité kilométrique de l’impôt sur le revenu'},\n",
       " {'categorie': 'Se déplacer',\n",
       "  'sousCategorie': \"Sortir de l'usage de la voiture en solo\",\n",
       "  'proposition': 'Inciter à utiliser des moyens de transports doux ou partagés'},\n",
       " {'categorie': 'Se déplacer',\n",
       "  'sousCategorie': 'Aménagements de la voie publique',\n",
       "  'proposition': 'Créer des parkings relais'},\n",
       " {'categorie': 'Se déplacer',\n",
       "  'sousCategorie': 'Aménagements de la voie publique',\n",
       "  'proposition': 'Interdire les centres villes pour les véhicules les plus émetteurs de gaz à effet de serre'},\n",
       " {'categorie': 'Se déplacer',\n",
       "  'sousCategorie': 'Aménagements de la voie publique',\n",
       "  'proposition': 'Augmenter les montants du Fonds Vélo de 50 à 200 millions d’euros par an pour financer des pistes cyclables'},\n",
       " {'categorie': 'Se déplacer',\n",
       "  'sousCategorie': 'Aménagements de la voie publique',\n",
       "  'proposition': 'Généraliser les aménagements de voies réservées aux véhicules partagés et aux transports collectifs sur les autoroutes et voies rapides'},\n",
       " {'categorie': 'Se déplacer',\n",
       "  'sousCategorie': 'Réduire les émissions de gaz à effet de serre sur les autoroutes et voies rapides',\n",
       "  'proposition': 'Réduire la vitesse sur autoroute à 110 km/h maximum'},\n",
       " {'categorie': 'Se déplacer',\n",
       "  'sousCategorie': \"Retour fort à l'usage du train\",\n",
       "  'proposition': 'Réduire la TVA sur les billets de train de 10% à 5,5%'},\n",
       " {'categorie': 'Se déplacer',\n",
       "  'sousCategorie': \"Retour fort à l'usage du train\",\n",
       "  'proposition': 'Généraliser les mesures tarifaires attractives déjà pratiquées par certaines régions'},\n",
       " {'categorie': 'Se déplacer',\n",
       "  'sousCategorie': \"Retour fort à l'usage du train\",\n",
       "  'proposition': 'Développer un plan d’investissement massif pour moderniser les infrastructures, les matériels roulants et les gares pour en faire des pôles multimodaux (lien avec les voitures, cars, vélos...)'},\n",
       " {'categorie': 'Se déplacer',\n",
       "  'sousCategorie': 'Réduire le transport routier de marchandises',\n",
       "  'proposition': 'Développer les autoroutes de fret maritime (et fluvial), sur des trajets déterminés'},\n",
       " {'categorie': 'Se déplacer',\n",
       "  'sousCategorie': 'Réduire le transport routier de marchandises',\n",
       "  'proposition': 'Imposer un suivi régulier de la formation des chauffeurs à l’écoconduite'},\n",
       " {'categorie': 'Se déplacer',\n",
       "  'sousCategorie': 'Réduire le transport routier de marchandises',\n",
       "  'proposition': 'Imposer aux constructeurs de poids lourds d’adopter la même filière énergétique dans leur recherche et développement'},\n",
       " {'categorie': 'Se déplacer',\n",
       "  'sousCategorie': 'Réduire le transport routier de marchandises',\n",
       "  'proposition': 'Sortir progressivement des avantages fiscaux sur le gazole, en échange de compensations fortes pour les transporteurs sous forme d’aides au financement accrues pour l’achat de poids-lourds neufs plus propres en remplacement des poids lourds polluants'},\n",
       " {'categorie': 'Se déplacer',\n",
       "  'sousCategorie': 'Réduire le transport routier de marchandises',\n",
       "  'proposition': 'Inciter, par des obligations réglementaires et fiscales, au report partiel vers d’autres moyens de transport de marchandises moins émetteurs'},\n",
       " {'categorie': 'Se déplacer',\n",
       "  'sousCategorie': 'Réduire le transport routier de marchandises',\n",
       "  'proposition': 'Obliger les chargeurs à intégrer des clauses environnementales'},\n",
       " {'categorie': 'Se déplacer',\n",
       "  'sousCategorie': 'Réduire le transport routier de marchandises',\n",
       "  'proposition': 'Favoriser le transport de marchandises sur des circuits courts par une modulation de la TVA'},\n",
       " {'categorie': 'Se déplacer',\n",
       "  'sousCategorie': 'Réduire à zéro les émissions des navires dans les ports',\n",
       "  'proposition': 'Interdire l’usage des moteurs polluants lors des arrêts dans les ports'},\n",
       " {'categorie': 'Se déplacer',\n",
       "  'sousCategorie': 'Réduire à zéro les émissions des navires dans les ports',\n",
       "  'proposition': 'Mettre à disposition les moyens d’alimenter en électricité les navires à quai pour permettre une réduction des émissions liées à l’usage des moteurs'},\n",
       " {'categorie': 'Se déplacer',\n",
       "  'sousCategorie': 'Réduire à zéro les émissions des navires dans les ports',\n",
       "  'proposition': 'Agir sur la réglementation internationale pour encadrer les émissions des gaz à effet de serre des navires'},\n",
       " {'categorie': 'Se déplacer',\n",
       "  'sousCategorie': 'Transition vers un parc de véhicules plus propre',\n",
       "  'proposition': 'Augmenter le bonus pour les véhicules peu polluants, afin d’aider davantage les ménages et les professionnels dans leur évolution'},\n",
       " {'categorie': 'Se déplacer',\n",
       "  'sousCategorie': 'Transition vers un parc de véhicules plus propre',\n",
       "  'proposition': 'Renforcer très fortement le malus sur les véhicules polluants et introduire le poids comme un des critères à prendre en compte'},\n",
       " {'categorie': 'Se déplacer',\n",
       "  'sousCategorie': 'Transition vers un parc de véhicules plus propre',\n",
       "  'proposition': 'Interdire dès 2025 la commercialisation de véhicules neufs très émetteurs ; les véhicules anciens pouvant continuer de circuler'},\n",
       " {'categorie': 'Se déplacer',\n",
       "  'sousCategorie': 'Transition vers un parc de véhicules plus propre',\n",
       "  'proposition': 'Moduler les taxes sur les contrats d’assurance en fonction de l’émission de CO2 pour encourager les véhicules propres'},\n",
       " {'categorie': 'Se déplacer',\n",
       "  'sousCategorie': 'Transition vers un parc de véhicules plus propre',\n",
       "  'proposition': 'Permettre l’accès à des véhicules propres en développant la location de longue durée'},\n",
       " {'categorie': 'Se déplacer',\n",
       "  'sousCategorie': 'Transition vers un parc de véhicules plus propre',\n",
       "  'proposition': 'Proposer des prêts à taux zéro, avec la garantie de l’État, pour l’achat d’un véhicule peu émetteur'},\n",
       " {'categorie': 'Se déplacer',\n",
       "  'sousCategorie': 'Transition vers un parc de véhicules plus propre',\n",
       "  'proposition': 'Créer des vignettes vertes à positionner sur les plaques d’immatriculation pour les véhicules les plus propres et donnant accès à des services particuliers : accès au centre-ville, places de parking, etc.'},\n",
       " {'categorie': 'Se déplacer',\n",
       "  'sousCategorie': 'Transition vers un parc de véhicules plus propre',\n",
       "  'proposition': 'Prévoir un plan de formation pour les garagistes, et plus largement de la filière « pétrole », pour accompagner la transformation progressive du parc automobile (nouveaux moteurs, carburants, systèmes)'},\n",
       " {'categorie': 'Se déplacer',\n",
       "  'sousCategorie': 'Mieux organiser les déplacements avec les entreprises et les administrations',\n",
       "  'proposition': 'Renforcer les plans de mobilité en les rendant obligatoires pour toutes les entreprises'},\n",
       " {'categorie': 'Se déplacer',\n",
       "  'sousCategorie': 'Mieux organiser les déplacements avec les entreprises et les administrations',\n",
       "  'proposition': 'Les Autorités organisatrices de la mobilité (AOM) peuvent aider à mettre en place ces plans de mobilité en accompagnant les entreprises'},\n",
       " {'categorie': 'Se déplacer',\n",
       "  'sousCategorie': 'Mieux organiser les déplacements avec les entreprises et les administrations',\n",
       "  'proposition': 'Favoriser les plans interentreprises et intra-entreprise (covoiturage, ramassage des salariés en bus, vélo ...) dans le cadre des plans de mobilité'},\n",
       " {'categorie': 'Se déplacer',\n",
       "  'sousCategorie': 'Mieux organiser les déplacements avec les entreprises et les administrations',\n",
       "  'proposition': 'Favoriser des nouvelles modalités d’organisation du travail'},\n",
       " {'categorie': 'Se déplacer',\n",
       "  'sousCategorie': 'Portail unique sur les dispositifs et moyens de transport sur un territoire',\n",
       "  'proposition': 'Mettre en place un portail unique permettant de savoir à tout moment, rapidement et simplement, quels sont les moyens et dispositifs existants sur un territoire pour se déplacer'},\n",
       " {'categorie': 'Se déplacer',\n",
       "  'sousCategorie': 'Portail unique sur les dispositifs et moyens de transport sur un territoire',\n",
       "  'proposition': 'Développer un projet d’unification des titres de transport ou de carte multimodale'},\n",
       " {'categorie': 'Se déplacer',\n",
       "  'sousCategorie': 'Autorités organisatrices de la mobilité',\n",
       "  'proposition': 'Intégrer les citoyens aux Autorités organisatrices de la mobilité à toutes les échelles'},\n",
       " {'categorie': 'Se déplacer',\n",
       "  'sousCategorie': 'Limiter les effets néfastes du transport aérien',\n",
       "  'proposition': 'Adopter une écocontribution kilométrique renforcée'},\n",
       " {'categorie': 'Se déplacer',\n",
       "  'sousCategorie': 'Limiter les effets néfastes du transport aérien',\n",
       "  'proposition': 'Organiser progressivement la fin du trafic aérien sur les vols intérieurs d’ici 2025, uniquement sur les lignes où il existe une alternative bas carbone satisfaisante en prix et en temps (sur un trajet de moins de 4h)'},\n",
       " {'categorie': 'Se déplacer',\n",
       "  'sousCategorie': 'Limiter les effets néfastes du transport aérien',\n",
       "  'proposition': 'Interdire la construction de nouveaux aéroports et l’extension des aéroports existants'},\n",
       " {'categorie': 'Se déplacer',\n",
       "  'sousCategorie': 'Limiter les effets néfastes du transport aérien',\n",
       "  'proposition': \"Taxer davantage le carburant pour l'aviation de loisir\"},\n",
       " {'categorie': 'Se déplacer',\n",
       "  'sousCategorie': 'Limiter les effets néfastes du transport aérien',\n",
       "  'proposition': 'Promouvoir l’idée d’une écocontribution européenne'},\n",
       " {'categorie': 'Se déplacer',\n",
       "  'sousCategorie': 'Limiter les effets néfastes du transport aérien',\n",
       "  'proposition': 'Garantir que l’ensemble des émissions qui ne pourraient être éliminées soient intégralement compensées par des puits de carbone'},\n",
       " {'categorie': 'Se déplacer',\n",
       "  'sousCategorie': 'Limiter les effets néfastes du transport aérien',\n",
       "  'proposition': 'Soutenir, à moyen terme, la R&D dans le développement d’une filière biocarburants pour les avions'},\n",
       " {'categorie': 'Produire et travailler',\n",
       "  'sousCategorie': \"Transformer l'outil de production\",\n",
       "  'proposition': 'Augmenter la longévité des produits et réduire la pollution'},\n",
       " {'categorie': 'Produire et travailler',\n",
       "  'sousCategorie': \"Transformer l'outil de production\",\n",
       "  'proposition': 'Faire respecter la loi sur l’interdiction de l’obsolescence programmée'},\n",
       " {'categorie': 'Produire et travailler',\n",
       "  'sousCategorie': \"Transformer l'outil de production\",\n",
       "  'proposition': 'Rendre obligatoire la possibilité de réparation des produits manufacturés qui sont vendus en France (1), la disponibilité des pièces détachées d’origine pendant une durée définie (2). Mettre en place et à proximité des filières et ateliers de réparation, et rendre accessibles les services après-vente (3)'},\n",
       " {'categorie': 'Produire et travailler',\n",
       "  'sousCategorie': \"Transformer l'outil de production\",\n",
       "  'proposition': 'Rendre obligatoire le recyclage de tous les objets en plastique dès 2023. Supprimer tous les plastiques à usage unique dès 2023 – Développer le recyclage des autres matières'},\n",
       " {'categorie': 'Produire et travailler',\n",
       "  'sousCategorie': \"Transformer l'outil de production\",\n",
       "  'proposition': 'Durcir et appliquer la réglementation sur la gestion des déchets'},\n",
       " {'categorie': 'Produire et travailler',\n",
       "  'sousCategorie': \"Soutenir l'innovation\",\n",
       "  'proposition': 'D’ici 2025 tout soutien à l’innovation doit s’inscrire dans une logique de sortie d’un modèle basé sur le carbone'},\n",
       " {'categorie': 'Produire et travailler',\n",
       "  'sousCategorie': \"Soutenir le financement de la transformation de l'outil de production\",\n",
       "  'proposition': \"Réglementer l'utilisation de l'épargne réglementée gérée par la Caisse des Dépôts et Consignations (CDC) et les banques pour financer des investissements verts\"},\n",
       " {'categorie': 'Produire et travailler',\n",
       "  'sousCategorie': \"Soutenir le financement de la transformation de l'outil de production\",\n",
       "  'proposition': 'Faire évoluer la gouvernance de la CDC pour soutenir cette logique'},\n",
       " {'categorie': 'Produire et travailler',\n",
       "  'sousCategorie': \"Soutenir le financement de la transformation de l'outil de production\",\n",
       "  'proposition': 'Les entreprises qui distribuent plus de 10M€ de dividendes annuels participeront à l’effort de financement collectif de la transition écologique, à hauteur de 4\\u202f% du montant des dividendes distribués, chaque année'},\n",
       " {'categorie': 'Produire et travailler',\n",
       "  'sousCategorie': \"Soutenir le financement de la transformation de l'outil de production\",\n",
       "  'proposition': 'Mettre en place les modalités de financement par loi ou décret avec un emprunt d’État dédié au financement de la transformation des entreprises'},\n",
       " {'categorie': 'Produire et travailler',\n",
       "  'sousCategorie': \"Transformer l'emploi\",\n",
       "  'proposition': 'Accompagner les salariés et les entreprises dans la transition'},\n",
       " {'categorie': 'Produire et travailler',\n",
       "  'sousCategorie': \"Transformer l'emploi\",\n",
       "  'proposition': 'Créer une nouvelle gouvernance de la transition des emplois et compétences au niveau national et régional'},\n",
       " {'categorie': 'Produire et travailler',\n",
       "  'sousCategorie': \"Transformer l'emploi\",\n",
       "  'proposition': 'Réduire le temps de travail sans perte de salaire dans un objectif de sobriété et de réduction de gaz à effet de serre'},\n",
       " {'categorie': 'Produire et travailler',\n",
       "  'sousCategorie': \"Renforcer les obligations relatives à la préservation de l'environnement\",\n",
       "  'proposition': \"Annualiser le reporting et l'étendre à toutes les organisations - champ d'émissions au scope 3 - Sanction pour non-réalisation en % du chiffre d'affaire\"},\n",
       " {'categorie': 'Produire et travailler',\n",
       "  'sousCategorie': \"Renforcer les obligations relatives à la préservation de l'environnement\",\n",
       "  'proposition': 'Élargir le périmètre de reporting au secteur financier'},\n",
       " {'categorie': 'Produire et travailler',\n",
       "  'sousCategorie': \"Renforcer les obligations relatives à la préservation de l'environnement\",\n",
       "  'proposition': 'Renforcer les obligations de rapportage au secteur de la finance'},\n",
       " {'categorie': 'Produire et travailler',\n",
       "  'sousCategorie': \"Renforcer les obligations relatives à la préservation de l'environnement\",\n",
       "  'proposition': 'Bonus pour les entreprises ayant une évolution positive'},\n",
       " {'categorie': 'Produire et travailler',\n",
       "  'sousCategorie': \"Renforcer les obligations relatives à la préservation de l'environnement\",\n",
       "  'proposition': \"Conditionner les aides publiques à l'évolution positive du bilan gaz à effet de serre\"},\n",
       " {'categorie': 'Produire et travailler',\n",
       "  'sousCategorie': \"Renforcer les obligations relatives à la préservation de l'environnement\",\n",
       "  'proposition': 'Renforcer les clauses environnementales dans les marchés publics'},\n",
       " {'categorie': 'Produire et travailler',\n",
       "  'sousCategorie': \"Renforcer les obligations relatives à la préservation de l'environnement\",\n",
       "  'proposition': 'Protection des écosystèmes et de la biodiversité'},\n",
       " {'categorie': 'Produire et travailler',\n",
       "  'sousCategorie': \"Renforcer les obligations relatives à la préservation de l'environnement\",\n",
       "  'proposition': \"Ajustement carbone aux frontières de l’UE (en fonction de l'empreinte carbone) et prise en compte les enjeux de redistribution pour éviter de peser sur les ménages les moins favorisés\"},\n",
       " {'categorie': 'Produire et travailler',\n",
       "  'sousCategorie': 'Production, stockage et sobriété énergétique',\n",
       "  'proposition': 'Amélioration de la gouvernance territoriale/régionale'},\n",
       " {'categorie': 'Produire et travailler',\n",
       "  'sousCategorie': 'Production, stockage et sobriété énergétique',\n",
       "  'proposition': 'Participation des citoyens, entreprises locales, associations locales et collectivités locales aux projets énergies renouvelables (EnR)'},\n",
       " {'categorie': 'Produire et travailler',\n",
       "  'sousCategorie': 'Production, stockage et sobriété énergétique',\n",
       "  'proposition': 'Développement de l’autoconsommation'},\n",
       " {'categorie': 'Produire et travailler',\n",
       "  'sousCategorie': 'Production, stockage et sobriété énergétique',\n",
       "  'proposition': 'Accompagner l’évolution du numérique pour réduire ses impacts environnementaux'}]"
      ]
     },
     "execution_count": 24,
     "metadata": {},
     "output_type": "execute_result"
    }
   ],
   "source": [
    "# fabrication d'un DataFrame à partir du XML\n",
    "liste = [\n",
    "    {'categorie': node_category.attrib['titre'],\n",
    "    'sousCategorie': node_subcategory.attrib['titre'],\n",
    "    'proposition': node_proposition.text}\n",
    "        for node_category in root.getiterator('categorie')\n",
    "            for node_subcategory in node_category.getiterator('sousCategorie')\n",
    "                for node_proposition in node_subcategory.getiterator('proposition')]\n",
    "liste"
   ]
  },
  {
   "cell_type": "code",
   "execution_count": 25,
   "metadata": {},
   "outputs": [
    {
     "data": {
      "text/html": [
       "<div>\n",
       "<style scoped>\n",
       "    .dataframe tbody tr th:only-of-type {\n",
       "        vertical-align: middle;\n",
       "    }\n",
       "\n",
       "    .dataframe tbody tr th {\n",
       "        vertical-align: top;\n",
       "    }\n",
       "\n",
       "    .dataframe thead th {\n",
       "        text-align: right;\n",
       "    }\n",
       "</style>\n",
       "<table border=\"1\" class=\"dataframe\">\n",
       "  <thead>\n",
       "    <tr style=\"text-align: right;\">\n",
       "      <th></th>\n",
       "      <th>categorie</th>\n",
       "      <th>sousCategorie</th>\n",
       "      <th>proposition</th>\n",
       "    </tr>\n",
       "  </thead>\n",
       "  <tbody>\n",
       "    <tr>\n",
       "      <th>0</th>\n",
       "      <td>Modifications de la Constitution et des instit...</td>\n",
       "      <td></td>\n",
       "      <td>Ajout d'un alinéa dans le préambule de la Cons...</td>\n",
       "    </tr>\n",
       "    <tr>\n",
       "      <th>1</th>\n",
       "      <td>Modifications de la Constitution et des instit...</td>\n",
       "      <td></td>\n",
       "      <td>Ajout d'un alinéa dans l'article premier de la...</td>\n",
       "    </tr>\n",
       "    <tr>\n",
       "      <th>2</th>\n",
       "      <td>Modifications de la Constitution et des instit...</td>\n",
       "      <td></td>\n",
       "      <td>Création d'un \"Défenseur de l'environnement\", ...</td>\n",
       "    </tr>\n",
       "    <tr>\n",
       "      <th>3</th>\n",
       "      <td>Modifications de la Constitution et des instit...</td>\n",
       "      <td></td>\n",
       "      <td>Renforcement du rôle du CESE, le Conseil Econo...</td>\n",
       "    </tr>\n",
       "    <tr>\n",
       "      <th>4</th>\n",
       "      <td>Se loger</td>\n",
       "      <td>Sur la rénovation énergétique des bâtiments</td>\n",
       "      <td>Contraindre les propriétaires occupants et bai...</td>\n",
       "    </tr>\n",
       "    <tr>\n",
       "      <th>5</th>\n",
       "      <td>Se loger</td>\n",
       "      <td>Sur la rénovation énergétique des bâtiments</td>\n",
       "      <td>Obliger le changement des chaudières au fioul ...</td>\n",
       "    </tr>\n",
       "    <tr>\n",
       "      <th>6</th>\n",
       "      <td>Se loger</td>\n",
       "      <td>Sur la rénovation énergétique des bâtiments</td>\n",
       "      <td>Déployer un réseau harmonisé de guichets uniques</td>\n",
       "    </tr>\n",
       "    <tr>\n",
       "      <th>7</th>\n",
       "      <td>Se loger</td>\n",
       "      <td>Sur la rénovation énergétique des bâtiments</td>\n",
       "      <td>Système progressif d'aides à la rénovation, av...</td>\n",
       "    </tr>\n",
       "    <tr>\n",
       "      <th>...</th>\n",
       "      <td>...</td>\n",
       "      <td>...</td>\n",
       "      <td>...</td>\n",
       "    </tr>\n",
       "    <tr>\n",
       "      <th>141</th>\n",
       "      <td>Produire et travailler</td>\n",
       "      <td>Renforcer les obligations relatives à la prése...</td>\n",
       "      <td>Conditionner les aides publiques à l'évolution...</td>\n",
       "    </tr>\n",
       "    <tr>\n",
       "      <th>142</th>\n",
       "      <td>Produire et travailler</td>\n",
       "      <td>Renforcer les obligations relatives à la prése...</td>\n",
       "      <td>Renforcer les clauses environnementales dans l...</td>\n",
       "    </tr>\n",
       "    <tr>\n",
       "      <th>143</th>\n",
       "      <td>Produire et travailler</td>\n",
       "      <td>Renforcer les obligations relatives à la prése...</td>\n",
       "      <td>Protection des écosystèmes et de la biodiversité</td>\n",
       "    </tr>\n",
       "    <tr>\n",
       "      <th>144</th>\n",
       "      <td>Produire et travailler</td>\n",
       "      <td>Renforcer les obligations relatives à la prése...</td>\n",
       "      <td>Ajustement carbone aux frontières de l’UE (en ...</td>\n",
       "    </tr>\n",
       "    <tr>\n",
       "      <th>145</th>\n",
       "      <td>Produire et travailler</td>\n",
       "      <td>Production, stockage et sobriété énergétique</td>\n",
       "      <td>Amélioration de la gouvernance territoriale/ré...</td>\n",
       "    </tr>\n",
       "    <tr>\n",
       "      <th>146</th>\n",
       "      <td>Produire et travailler</td>\n",
       "      <td>Production, stockage et sobriété énergétique</td>\n",
       "      <td>Participation des citoyens, entreprises locale...</td>\n",
       "    </tr>\n",
       "    <tr>\n",
       "      <th>147</th>\n",
       "      <td>Produire et travailler</td>\n",
       "      <td>Production, stockage et sobriété énergétique</td>\n",
       "      <td>Développement de l’autoconsommation</td>\n",
       "    </tr>\n",
       "    <tr>\n",
       "      <th>148</th>\n",
       "      <td>Produire et travailler</td>\n",
       "      <td>Production, stockage et sobriété énergétique</td>\n",
       "      <td>Accompagner l’évolution du numérique pour rédu...</td>\n",
       "    </tr>\n",
       "  </tbody>\n",
       "</table>\n",
       "<p>149 rows × 3 columns</p>\n",
       "</div>"
      ],
      "text/plain": [
       "                                             categorie  \\\n",
       "0    Modifications de la Constitution et des instit...   \n",
       "1    Modifications de la Constitution et des instit...   \n",
       "2    Modifications de la Constitution et des instit...   \n",
       "3    Modifications de la Constitution et des instit...   \n",
       "4                                             Se loger   \n",
       "5                                             Se loger   \n",
       "6                                             Se loger   \n",
       "7                                             Se loger   \n",
       "..                                                 ...   \n",
       "141                             Produire et travailler   \n",
       "142                             Produire et travailler   \n",
       "143                             Produire et travailler   \n",
       "144                             Produire et travailler   \n",
       "145                             Produire et travailler   \n",
       "146                             Produire et travailler   \n",
       "147                             Produire et travailler   \n",
       "148                             Produire et travailler   \n",
       "\n",
       "                                         sousCategorie  \\\n",
       "0                                                        \n",
       "1                                                        \n",
       "2                                                        \n",
       "3                                                        \n",
       "4          Sur la rénovation énergétique des bâtiments   \n",
       "5          Sur la rénovation énergétique des bâtiments   \n",
       "6          Sur la rénovation énergétique des bâtiments   \n",
       "7          Sur la rénovation énergétique des bâtiments   \n",
       "..                                                 ...   \n",
       "141  Renforcer les obligations relatives à la prése...   \n",
       "142  Renforcer les obligations relatives à la prése...   \n",
       "143  Renforcer les obligations relatives à la prése...   \n",
       "144  Renforcer les obligations relatives à la prése...   \n",
       "145       Production, stockage et sobriété énergétique   \n",
       "146       Production, stockage et sobriété énergétique   \n",
       "147       Production, stockage et sobriété énergétique   \n",
       "148       Production, stockage et sobriété énergétique   \n",
       "\n",
       "                                           proposition  \n",
       "0    Ajout d'un alinéa dans le préambule de la Cons...  \n",
       "1    Ajout d'un alinéa dans l'article premier de la...  \n",
       "2    Création d'un \"Défenseur de l'environnement\", ...  \n",
       "3    Renforcement du rôle du CESE, le Conseil Econo...  \n",
       "4    Contraindre les propriétaires occupants et bai...  \n",
       "5    Obliger le changement des chaudières au fioul ...  \n",
       "6     Déployer un réseau harmonisé de guichets uniques  \n",
       "7    Système progressif d'aides à la rénovation, av...  \n",
       "..                                                 ...  \n",
       "141  Conditionner les aides publiques à l'évolution...  \n",
       "142  Renforcer les clauses environnementales dans l...  \n",
       "143   Protection des écosystèmes et de la biodiversité  \n",
       "144  Ajustement carbone aux frontières de l’UE (en ...  \n",
       "145  Amélioration de la gouvernance territoriale/ré...  \n",
       "146  Participation des citoyens, entreprises locale...  \n",
       "147                Développement de l’autoconsommation  \n",
       "148  Accompagner l’évolution du numérique pour rédu...  \n",
       "\n",
       "[149 rows x 3 columns]"
      ]
     },
     "execution_count": 25,
     "metadata": {},
     "output_type": "execute_result"
    }
   ],
   "source": [
    "# fabrication d'un DataFrame à partir du XML\n",
    "liste = [\n",
    "    {'categorie': node_category.attrib['titre'],\n",
    "    'sousCategorie': node_subcategory.attrib['titre'],\n",
    "    'proposition': node_proposition.text}\n",
    "        for node_category in root.getiterator('categorie')\n",
    "            for node_subcategory in node_category.getiterator('sousCategorie')\n",
    "                for node_proposition in node_subcategory.getiterator('proposition')]\n",
    "\n",
    "df = pd.DataFrame(liste)\n",
    "df"
   ]
  },
  {
   "cell_type": "code",
   "execution_count": 26,
   "metadata": {},
   "outputs": [
    {
     "data": {
      "text/plain": [
       "Se déplacer                                             43\n",
       "Se nourrir                                              42\n",
       "Produire et travailler                                  25\n",
       "Se loger                                                21\n",
       "Consommer                                               14\n",
       "Modifications de la Constitution et des institutions     4\n",
       "Name: categorie, dtype: int64"
      ]
     },
     "execution_count": 26,
     "metadata": {},
     "output_type": "execute_result"
    }
   ],
   "source": [
    "# catégories\n",
    "df['categorie'].value_counts()"
   ]
  },
  {
   "cell_type": "code",
   "execution_count": 27,
   "metadata": {},
   "outputs": [
    {
     "data": {
      "text/plain": [
       "2"
      ]
     },
     "execution_count": 27,
     "metadata": {},
     "output_type": "execute_result"
    }
   ],
   "source": [
    "# requêtes\n",
    "df['proposition'].str.contains('biodiversité').sum()"
   ]
  },
  {
   "cell_type": "code",
   "execution_count": 29,
   "metadata": {},
   "outputs": [
    {
     "data": {
      "text/plain": [
       "2"
      ]
     },
     "execution_count": 29,
     "metadata": {},
     "output_type": "execute_result"
    }
   ],
   "source": [
    "df.proposition.str.contains('biodiversité').sum()"
   ]
  },
  {
   "cell_type": "code",
   "execution_count": 30,
   "metadata": {},
   "outputs": [
    {
     "name": "stdout",
     "output_type": "stream",
     "text": [
      "Ajout d'un alinéa dans l'article premier de la Constitution : \"La République garantit la préservation de la biodiversité, de l'environnement et lutte contre le dérèglement climatique.\"\n",
      "Protection des écosystèmes et de la biodiversité\n"
     ]
    }
   ],
   "source": [
    "# requêtes\n",
    "print(*df.loc[df['proposition'].str.contains('biodiversité'), 'proposition'], sep='\\n')\n",
    "\n",
    "#* macro plusieurs variables"
   ]
  },
  {
   "cell_type": "code",
   "execution_count": 31,
   "metadata": {},
   "outputs": [
    {
     "name": "stdout",
     "output_type": "stream",
     "text": [
      "1 2 3\n"
     ]
    }
   ],
   "source": [
    "print(1,2,3)"
   ]
  },
  {
   "cell_type": "code",
   "execution_count": 32,
   "metadata": {},
   "outputs": [
    {
     "name": "stdout",
     "output_type": "stream",
     "text": [
      "1 2 3\n"
     ]
    }
   ],
   "source": [
    "print(*[1,2,3])"
   ]
  },
  {
   "cell_type": "code",
   "execution_count": 34,
   "metadata": {},
   "outputs": [
    {
     "name": "stdout",
     "output_type": "stream",
     "text": [
      "1;2;3"
     ]
    }
   ],
   "source": [
    "print(1,2,3, **{'sep':';','end':''})"
   ]
  },
  {
   "cell_type": "code",
   "execution_count": 38,
   "metadata": {},
   "outputs": [
    {
     "data": {
      "text/plain": [
       "3"
      ]
     },
     "execution_count": 38,
     "metadata": {},
     "output_type": "execute_result"
    }
   ],
   "source": [
    "# requêtes\n",
    "df['proposition'].str.contains('énergie').sum()"
   ]
  },
  {
   "cell_type": "code",
   "execution_count": 39,
   "metadata": {},
   "outputs": [
    {
     "name": "stdout",
     "output_type": "stream",
     "text": [
      "Contraindre par des mesures fortes les espaces publics et les bâtiments tertiaires à réduire leur consommation d’énergie\n",
      "Changer en profondeur les comportements en incitant les particuliers à réduire leur consommation d'énergie\n",
      "Participation des citoyens, entreprises locales, associations locales et collectivités locales aux projets énergies renouvelables (EnR)\n"
     ]
    }
   ],
   "source": [
    "# requêtes\n",
    "print(*df.loc[df['proposition'].str.contains('énergie'), 'proposition'], sep='\\n')"
   ]
  },
  {
   "cell_type": "code",
   "execution_count": 40,
   "metadata": {},
   "outputs": [],
   "source": [
    "# on stocke les propositions pour plus tard\n",
    "propositions = df['proposition'].copy()"
   ]
  },
  {
   "cell_type": "code",
   "execution_count": 41,
   "metadata": {},
   "outputs": [],
   "source": [
    "# f(*args, **kwargs)"
   ]
  },
  {
   "cell_type": "markdown",
   "metadata": {},
   "source": [
    "**Exercice 1**\n",
    "\n",
    "Produire un DataFrame avec les colonnes : categorie, sousCategorie, oui (float)."
   ]
  },
  {
   "cell_type": "code",
   "execution_count": 45,
   "metadata": {},
   "outputs": [
    {
     "data": {
      "text/html": [
       "<div>\n",
       "<style scoped>\n",
       "    .dataframe tbody tr th:only-of-type {\n",
       "        vertical-align: middle;\n",
       "    }\n",
       "\n",
       "    .dataframe tbody tr th {\n",
       "        vertical-align: top;\n",
       "    }\n",
       "\n",
       "    .dataframe thead th {\n",
       "        text-align: right;\n",
       "    }\n",
       "</style>\n",
       "<table border=\"1\" class=\"dataframe\">\n",
       "  <thead>\n",
       "    <tr style=\"text-align: right;\">\n",
       "      <th></th>\n",
       "      <th>categorie</th>\n",
       "      <th>sousCategorie</th>\n",
       "      <th>oui</th>\n",
       "    </tr>\n",
       "  </thead>\n",
       "  <tbody>\n",
       "    <tr>\n",
       "      <th>0</th>\n",
       "      <td>Se loger</td>\n",
       "      <td>Sur la rénovation énergétique des bâtiments</td>\n",
       "      <td>87.3</td>\n",
       "    </tr>\n",
       "    <tr>\n",
       "      <th>1</th>\n",
       "      <td>Se loger</td>\n",
       "      <td>Réduire la consommation d'énergie</td>\n",
       "      <td>92.0</td>\n",
       "    </tr>\n",
       "    <tr>\n",
       "      <th>2</th>\n",
       "      <td>Se loger</td>\n",
       "      <td>Lutter contre l'artificialisation des sols</td>\n",
       "      <td>99.0</td>\n",
       "    </tr>\n",
       "    <tr>\n",
       "      <th>3</th>\n",
       "      <td>Consommer</td>\n",
       "      <td>Affichage</td>\n",
       "      <td>98.8</td>\n",
       "    </tr>\n",
       "    <tr>\n",
       "      <th>4</th>\n",
       "      <td>Consommer</td>\n",
       "      <td>Publicité</td>\n",
       "      <td>89.6</td>\n",
       "    </tr>\n",
       "    <tr>\n",
       "      <th>5</th>\n",
       "      <td>Consommer</td>\n",
       "      <td>Suremballage</td>\n",
       "      <td>95.9</td>\n",
       "    </tr>\n",
       "    <tr>\n",
       "      <th>6</th>\n",
       "      <td>Consommer</td>\n",
       "      <td>Education</td>\n",
       "      <td>97.9</td>\n",
       "    </tr>\n",
       "    <tr>\n",
       "      <th>7</th>\n",
       "      <td>Consommer</td>\n",
       "      <td>Suivi et contrôle des politiques publiques env...</td>\n",
       "      <td>95.9</td>\n",
       "    </tr>\n",
       "    <tr>\n",
       "      <th>8</th>\n",
       "      <td>Se déplacer</td>\n",
       "      <td>Sortir de l'usage de la voiture en solo</td>\n",
       "      <td>96.4</td>\n",
       "    </tr>\n",
       "    <tr>\n",
       "      <th>9</th>\n",
       "      <td>Se déplacer</td>\n",
       "      <td>Aménagements de la voie publique</td>\n",
       "      <td>98.6</td>\n",
       "    </tr>\n",
       "    <tr>\n",
       "      <th>10</th>\n",
       "      <td>Se déplacer</td>\n",
       "      <td>Retour fort à l'usage du train</td>\n",
       "      <td>95.9</td>\n",
       "    </tr>\n",
       "    <tr>\n",
       "      <th>11</th>\n",
       "      <td>Se déplacer</td>\n",
       "      <td>Réduire le transport routier de marchandises</td>\n",
       "      <td>97.3</td>\n",
       "    </tr>\n",
       "    <tr>\n",
       "      <th>12</th>\n",
       "      <td>Se déplacer</td>\n",
       "      <td>Réduire à zéro les émissions des navires dans ...</td>\n",
       "      <td>95.9</td>\n",
       "    </tr>\n",
       "    <tr>\n",
       "      <th>13</th>\n",
       "      <td>Se déplacer</td>\n",
       "      <td>Transition vers un parc de véhicules plus propre</td>\n",
       "      <td>86.6</td>\n",
       "    </tr>\n",
       "    <tr>\n",
       "      <th>14</th>\n",
       "      <td>Se déplacer</td>\n",
       "      <td>Mieux organiser les déplacements avec les entr...</td>\n",
       "      <td>89.9</td>\n",
       "    </tr>\n",
       "    <tr>\n",
       "      <th>15</th>\n",
       "      <td>Se déplacer</td>\n",
       "      <td>Portail unique sur les dispositifs et moyens d...</td>\n",
       "      <td>95.8</td>\n",
       "    </tr>\n",
       "    <tr>\n",
       "      <th>16</th>\n",
       "      <td>Se déplacer</td>\n",
       "      <td>Autorités organisatrices de la mobilité</td>\n",
       "      <td>96.6</td>\n",
       "    </tr>\n",
       "    <tr>\n",
       "      <th>17</th>\n",
       "      <td>Se déplacer</td>\n",
       "      <td>Limiter les effets néfastes du transport aérien</td>\n",
       "      <td>88.1</td>\n",
       "    </tr>\n",
       "  </tbody>\n",
       "</table>\n",
       "</div>"
      ],
      "text/plain": [
       "      categorie                                      sousCategorie   oui\n",
       "0      Se loger        Sur la rénovation énergétique des bâtiments  87.3\n",
       "1      Se loger                  Réduire la consommation d'énergie  92.0\n",
       "2      Se loger         Lutter contre l'artificialisation des sols  99.0\n",
       "3     Consommer                                          Affichage  98.8\n",
       "4     Consommer                                          Publicité  89.6\n",
       "5     Consommer                                       Suremballage  95.9\n",
       "6     Consommer                                          Education  97.9\n",
       "7     Consommer  Suivi et contrôle des politiques publiques env...  95.9\n",
       "8   Se déplacer            Sortir de l'usage de la voiture en solo  96.4\n",
       "9   Se déplacer                   Aménagements de la voie publique  98.6\n",
       "10  Se déplacer                     Retour fort à l'usage du train  95.9\n",
       "11  Se déplacer       Réduire le transport routier de marchandises  97.3\n",
       "12  Se déplacer  Réduire à zéro les émissions des navires dans ...  95.9\n",
       "13  Se déplacer   Transition vers un parc de véhicules plus propre  86.6\n",
       "14  Se déplacer  Mieux organiser les déplacements avec les entr...  89.9\n",
       "15  Se déplacer  Portail unique sur les dispositifs et moyens d...  95.8\n",
       "16  Se déplacer            Autorités organisatrices de la mobilité  96.6\n",
       "17  Se déplacer    Limiter les effets néfastes du transport aérien  88.1"
      ]
     },
     "execution_count": 45,
     "metadata": {},
     "output_type": "execute_result"
    }
   ],
   "source": [
    "# fabrication d'un DataFrame à partir du XML\n",
    "liste = [\n",
    "    {'categorie': node_category.attrib['titre'],\n",
    "    'sousCategorie': node_subcategory.attrib['titre'],\n",
    "    'oui': node_proposition.text}\n",
    "        for node_category in root.getiterator('categorie')\n",
    "            for node_subcategory in node_category.getiterator('sousCategorie')\n",
    "                for node_proposition in node_subcategory.getiterator('oui')]\n",
    "\n",
    "df = pd.DataFrame(liste)\n",
    "df.oui = df.oui.str.replace(',','.').astype(float)\n",
    "#df['oui'] = df['oui'].str.replace(',','.').astype(float)\n",
    "df"
   ]
  },
  {
   "cell_type": "markdown",
   "metadata": {},
   "source": [
    "**Exercice 2**\n",
    "\n",
    "- Produire un DataFrame avec les colonnes : categorie, sousCategorie, oui (float), non (float), blancs (float).\n",
    "- Calculer les sommes oui + non + blancs et oui + non &#9786;"
   ]
  },
  {
   "cell_type": "code",
   "execution_count": 58,
   "metadata": {},
   "outputs": [
    {
     "data": {
      "text/html": [
       "<div>\n",
       "<style scoped>\n",
       "    .dataframe tbody tr th:only-of-type {\n",
       "        vertical-align: middle;\n",
       "    }\n",
       "\n",
       "    .dataframe tbody tr th {\n",
       "        vertical-align: top;\n",
       "    }\n",
       "\n",
       "    .dataframe thead th {\n",
       "        text-align: right;\n",
       "    }\n",
       "</style>\n",
       "<table border=\"1\" class=\"dataframe\">\n",
       "  <thead>\n",
       "    <tr style=\"text-align: right;\">\n",
       "      <th></th>\n",
       "      <th>categorie</th>\n",
       "      <th>sousCategorie</th>\n",
       "      <th>oui</th>\n",
       "      <th>non</th>\n",
       "      <th>blancs</th>\n",
       "    </tr>\n",
       "  </thead>\n",
       "  <tbody>\n",
       "    <tr>\n",
       "      <th>0</th>\n",
       "      <td>Se loger</td>\n",
       "      <td>Sur la rénovation énergétique des bâtiments</td>\n",
       "      <td>87.3</td>\n",
       "      <td>12.7</td>\n",
       "      <td>9.5</td>\n",
       "    </tr>\n",
       "    <tr>\n",
       "      <th>1</th>\n",
       "      <td>Se loger</td>\n",
       "      <td>Réduire la consommation d'énergie</td>\n",
       "      <td>92.0</td>\n",
       "      <td>8.0</td>\n",
       "      <td>3.0</td>\n",
       "    </tr>\n",
       "    <tr>\n",
       "      <th>2</th>\n",
       "      <td>Se loger</td>\n",
       "      <td>Lutter contre l'artificialisation des sols</td>\n",
       "      <td>99.0</td>\n",
       "      <td>1.0</td>\n",
       "      <td>1.0</td>\n",
       "    </tr>\n",
       "    <tr>\n",
       "      <th>3</th>\n",
       "      <td>Consommer</td>\n",
       "      <td>Affichage</td>\n",
       "      <td>98.8</td>\n",
       "      <td>2.0</td>\n",
       "      <td>0.7</td>\n",
       "    </tr>\n",
       "    <tr>\n",
       "      <th>4</th>\n",
       "      <td>Consommer</td>\n",
       "      <td>Publicité</td>\n",
       "      <td>89.6</td>\n",
       "      <td>10.4</td>\n",
       "      <td>4.0</td>\n",
       "    </tr>\n",
       "    <tr>\n",
       "      <th>5</th>\n",
       "      <td>Consommer</td>\n",
       "      <td>Suremballage</td>\n",
       "      <td>95.9</td>\n",
       "      <td>4.1</td>\n",
       "      <td>2.7</td>\n",
       "    </tr>\n",
       "    <tr>\n",
       "      <th>6</th>\n",
       "      <td>Consommer</td>\n",
       "      <td>Education</td>\n",
       "      <td>97.9</td>\n",
       "      <td>2.1</td>\n",
       "      <td>2.7</td>\n",
       "    </tr>\n",
       "    <tr>\n",
       "      <th>7</th>\n",
       "      <td>Consommer</td>\n",
       "      <td>Suivi et contrôle des politiques publiques env...</td>\n",
       "      <td>95.9</td>\n",
       "      <td>4.1</td>\n",
       "      <td>2.7</td>\n",
       "    </tr>\n",
       "    <tr>\n",
       "      <th>8</th>\n",
       "      <td>Se déplacer</td>\n",
       "      <td>Sortir de l'usage de la voiture en solo</td>\n",
       "      <td>96.4</td>\n",
       "      <td>3.6</td>\n",
       "      <td>4.1</td>\n",
       "    </tr>\n",
       "    <tr>\n",
       "      <th>9</th>\n",
       "      <td>Se déplacer</td>\n",
       "      <td>Aménagements de la voie publique</td>\n",
       "      <td>98.6</td>\n",
       "      <td>1.4</td>\n",
       "      <td>2.0</td>\n",
       "    </tr>\n",
       "    <tr>\n",
       "      <th>10</th>\n",
       "      <td>Se déplacer</td>\n",
       "      <td>Retour fort à l'usage du train</td>\n",
       "      <td>95.9</td>\n",
       "      <td>4.1</td>\n",
       "      <td>1.3</td>\n",
       "    </tr>\n",
       "    <tr>\n",
       "      <th>11</th>\n",
       "      <td>Se déplacer</td>\n",
       "      <td>Réduire le transport routier de marchandises</td>\n",
       "      <td>97.3</td>\n",
       "      <td>2.7</td>\n",
       "      <td>0.0</td>\n",
       "    </tr>\n",
       "    <tr>\n",
       "      <th>12</th>\n",
       "      <td>Se déplacer</td>\n",
       "      <td>Réduire à zéro les émissions des navires dans ...</td>\n",
       "      <td>95.9</td>\n",
       "      <td>4.1</td>\n",
       "      <td>2.7</td>\n",
       "    </tr>\n",
       "    <tr>\n",
       "      <th>13</th>\n",
       "      <td>Se déplacer</td>\n",
       "      <td>Transition vers un parc de véhicules plus propre</td>\n",
       "      <td>86.6</td>\n",
       "      <td>13.4</td>\n",
       "      <td>4.7</td>\n",
       "    </tr>\n",
       "    <tr>\n",
       "      <th>14</th>\n",
       "      <td>Se déplacer</td>\n",
       "      <td>Mieux organiser les déplacements avec les entr...</td>\n",
       "      <td>89.9</td>\n",
       "      <td>10.1</td>\n",
       "      <td>8.0</td>\n",
       "    </tr>\n",
       "    <tr>\n",
       "      <th>15</th>\n",
       "      <td>Se déplacer</td>\n",
       "      <td>Portail unique sur les dispositifs et moyens d...</td>\n",
       "      <td>95.8</td>\n",
       "      <td>4.2</td>\n",
       "      <td>3.4</td>\n",
       "    </tr>\n",
       "    <tr>\n",
       "      <th>16</th>\n",
       "      <td>Se déplacer</td>\n",
       "      <td>Autorités organisatrices de la mobilité</td>\n",
       "      <td>96.6</td>\n",
       "      <td>3.4</td>\n",
       "      <td>2.7</td>\n",
       "    </tr>\n",
       "    <tr>\n",
       "      <th>17</th>\n",
       "      <td>Se déplacer</td>\n",
       "      <td>Limiter les effets néfastes du transport aérien</td>\n",
       "      <td>88.1</td>\n",
       "      <td>11.9</td>\n",
       "      <td>8.2</td>\n",
       "    </tr>\n",
       "  </tbody>\n",
       "</table>\n",
       "</div>"
      ],
      "text/plain": [
       "      categorie                                      sousCategorie   oui  \\\n",
       "0      Se loger        Sur la rénovation énergétique des bâtiments  87.3   \n",
       "1      Se loger                  Réduire la consommation d'énergie  92.0   \n",
       "2      Se loger         Lutter contre l'artificialisation des sols  99.0   \n",
       "3     Consommer                                          Affichage  98.8   \n",
       "4     Consommer                                          Publicité  89.6   \n",
       "5     Consommer                                       Suremballage  95.9   \n",
       "6     Consommer                                          Education  97.9   \n",
       "7     Consommer  Suivi et contrôle des politiques publiques env...  95.9   \n",
       "8   Se déplacer            Sortir de l'usage de la voiture en solo  96.4   \n",
       "9   Se déplacer                   Aménagements de la voie publique  98.6   \n",
       "10  Se déplacer                     Retour fort à l'usage du train  95.9   \n",
       "11  Se déplacer       Réduire le transport routier de marchandises  97.3   \n",
       "12  Se déplacer  Réduire à zéro les émissions des navires dans ...  95.9   \n",
       "13  Se déplacer   Transition vers un parc de véhicules plus propre  86.6   \n",
       "14  Se déplacer  Mieux organiser les déplacements avec les entr...  89.9   \n",
       "15  Se déplacer  Portail unique sur les dispositifs et moyens d...  95.8   \n",
       "16  Se déplacer            Autorités organisatrices de la mobilité  96.6   \n",
       "17  Se déplacer    Limiter les effets néfastes du transport aérien  88.1   \n",
       "\n",
       "     non  blancs  \n",
       "0   12.7     9.5  \n",
       "1    8.0     3.0  \n",
       "2    1.0     1.0  \n",
       "3    2.0     0.7  \n",
       "4   10.4     4.0  \n",
       "5    4.1     2.7  \n",
       "6    2.1     2.7  \n",
       "7    4.1     2.7  \n",
       "8    3.6     4.1  \n",
       "9    1.4     2.0  \n",
       "10   4.1     1.3  \n",
       "11   2.7     0.0  \n",
       "12   4.1     2.7  \n",
       "13  13.4     4.7  \n",
       "14  10.1     8.0  \n",
       "15   4.2     3.4  \n",
       "16   3.4     2.7  \n",
       "17  11.9     8.2  "
      ]
     },
     "execution_count": 58,
     "metadata": {},
     "output_type": "execute_result"
    }
   ],
   "source": [
    "# fabrication d'un DataFrame à partir du XML\n",
    "liste = [\n",
    "    {'categorie': node_category.attrib['titre'],\n",
    "    'sousCategorie': node_subcategory.attrib['titre'],\n",
    "    'oui': node_vote.find('oui').text,\n",
    "    'non': node_vote.find('non').text,\n",
    "    'blancs': node_vote.find('blancs').text}\n",
    "        for node_category in root.getiterator('categorie')\n",
    "            for node_subcategory in node_category.getiterator('sousCategorie')\n",
    "                for node_vote in node_subcategory.getiterator('vote')]\n",
    "\n",
    "df = pd.DataFrame(liste)\n",
    "df[['oui','non','blancs']] = df[['oui','non','blancs']].applymap(lambda x: x.replace(',','.')).astype(float)\n",
    "#df['oui'] = df['oui'].str.replace(',','.').astype(float)\n",
    "#df['non'] = df['non'].str.replace(',','.').astype(float)\n",
    "#df['blancs'] = df['blancs'].str.replace(',','.').astype(float)\n",
    "df"
   ]
  },
  {
   "cell_type": "code",
   "execution_count": 59,
   "metadata": {},
   "outputs": [
    {
     "data": {
      "text/plain": [
       "0     109.5\n",
       "1     103.0\n",
       "2     101.0\n",
       "3     101.5\n",
       "4     104.0\n",
       "5     102.7\n",
       "6     102.7\n",
       "7     102.7\n",
       "8     104.1\n",
       "9     102.0\n",
       "10    101.3\n",
       "11    100.0\n",
       "12    102.7\n",
       "13    104.7\n",
       "14    108.0\n",
       "15    103.4\n",
       "16    102.7\n",
       "17    108.2\n",
       "dtype: float64"
      ]
     },
     "execution_count": 59,
     "metadata": {},
     "output_type": "execute_result"
    }
   ],
   "source": [
    "df[['oui','non','blancs']].sum(axis = 1)"
   ]
  },
  {
   "cell_type": "markdown",
   "metadata": {},
   "source": [
    "**Exercice 3**\n",
    "\n",
    "- Calculer un dictionnaire fréquentiel des mots  des propositions.\n",
    "- Le mettre dans un objet de type Series trié par fréquences décroissantes."
   ]
  },
  {
   "cell_type": "code",
   "execution_count": 61,
   "metadata": {},
   "outputs": [
    {
     "data": {
      "text/plain": [
       "['la', 'fonction', 'findall', 'est', 'très', 'utile']"
      ]
     },
     "execution_count": 61,
     "metadata": {},
     "output_type": "execute_result"
    }
   ],
   "source": [
    "# re.findall()\n",
    "import re\n",
    "re.findall('[A-Za-zÀ-ÿ0-9]+', 'la fonction findall est très utile.')\n",
    "\n",
    "#re : regular expression"
   ]
  },
  {
   "cell_type": "code",
   "execution_count": 64,
   "metadata": {},
   "outputs": [
    {
     "data": {
      "text/plain": [
       "Counter({'la': 1,\n",
       "         'fonction': 1,\n",
       "         'findall': 1,\n",
       "         'est': 2,\n",
       "         'très': 1,\n",
       "         'utile': 2,\n",
       "         'un': 1,\n",
       "         'objet': 1,\n",
       "         'de': 1,\n",
       "         'type': 1,\n",
       "         'counter': 1,\n",
       "         'aussi': 1})"
      ]
     },
     "execution_count": 64,
     "metadata": {},
     "output_type": "execute_result"
    }
   ],
   "source": [
    "# Counter\n",
    "from collections import Counter\n",
    "c = Counter()\n",
    "c.update(['la', 'fonction', 'findall', 'est', 'très', 'utile',\n",
    "          'un', 'objet', 'de', 'type', 'counter', 'est', 'aussi', 'utile'])\n",
    "\n",
    "#c.update(['la', 'fonction', 'findall', 'est', 'très', 'utile',])\n",
    "#c.update(['un', 'objet', 'de', 'type', 'counter', 'est', 'aussi', 'utile'])\n",
    "c"
   ]
  },
  {
   "cell_type": "code",
   "execution_count": 67,
   "metadata": {},
   "outputs": [
    {
     "data": {
      "text/plain": [
       "0      [ajout, d, un, alinéa, dans, le, préambule, de...\n",
       "1      [ajout, d, un, alinéa, dans, l, article, premi...\n",
       "2      [création, d, un, défenseur, de, l, environnem...\n",
       "3      [renforcement, du, rôle, du, cese, le, conseil...\n",
       "4      [contraindre, les, propriétaires, occupants, e...\n",
       "5      [obliger, le, changement, des, chaudières, au,...\n",
       "6      [déployer, un, réseau, harmonisé, de, guichets...\n",
       "7      [système, progressif, d, aides, à, la, rénovat...\n",
       "                             ...                        \n",
       "141    [conditionner, les, aides, publiques, à, l, év...\n",
       "142    [renforcer, les, clauses, environnementales, d...\n",
       "143    [protection, des, écosystèmes, et, de, la, bio...\n",
       "144    [ajustement, carbone, aux, frontières, de, l, ...\n",
       "145    [amélioration, de, la, gouvernance, territoria...\n",
       "146    [participation, des, citoyens, entreprises, lo...\n",
       "147             [développement, de, l, autoconsommation]\n",
       "148    [accompagner, l, évolution, du, numérique, pou...\n",
       "Name: proposition, Length: 149, dtype: object"
      ]
     },
     "execution_count": 67,
     "metadata": {},
     "output_type": "execute_result"
    }
   ],
   "source": [
    "propositions.str.lower().apply(lambda x: re.findall('[A-Za-zÀ-ÿ0-9]+', x.lower()))"
   ]
  },
  {
   "cell_type": "markdown",
   "metadata": {},
   "source": [
    "#### Validation XML / XSD"
   ]
  },
  {
   "cell_type": "markdown",
   "metadata": {},
   "source": [
    "Il existe un langage de description de schéma XML appelé XSD (XML Schema Definition). Un fichier XML peut être écrit selon un schéma XSD particulier. Il existe une librairie Python qui peut vérifier qu'un fichier XML est valide selon un schéma XSD donné.\n",
    "\n",
    "Librairie xmlschema :\n",
    "https://pypi.org/project/xmlschema/\n",
    "\n",
    "L'utilisation de la librairie est assez simple :\n",
    "\n",
    "<pre>\n",
    ">>> # vérification que le fichier \"file.xml\" est valide dans le schéma \"schema.xsd\"\n",
    ">>> import xmlschema\n",
    ">>> my_schema = xmlschema.XMLSchema('schema.xsd')\n",
    ">>> #\n",
    ">>> # retourne un booléen selon la validité\n",
    ">>> my_schema.is_valid('file.xml')\n",
    "</pre>"
   ]
  },
  {
   "cell_type": "markdown",
   "metadata": {},
   "source": [
    "### 2. Web Scraping\n",
    "\n",
    "- Extraction d'informations d'un site web.\n",
    "- A utiliser en l'absence de données ouvertes ou d'API.\n",
    "- Technique fragile car le site web peut changer du jour au lendemain.\n",
    "- Problématique juridique...\n",
    "\n",
    "**Avec requests**\n",
    "\n",
    "Doc :\n",
    "- requests : https://requests.readthedocs.io/en/master/\n",
    "\n",
    "Installation :\n",
    "- *pip install requests* ou *conda install -c anaconda requests*\n",
    "\n",
    "Exemple de site : https://www.beerwulf.com/fr-fr"
   ]
  },
  {
   "cell_type": "code",
   "execution_count": null,
   "metadata": {},
   "outputs": [],
   "source": [
    "import requests\n",
    "\n",
    "r = requests.get('https://www.beerwulf.com/fr-fr')\n",
    "r.status_code"
   ]
  },
  {
   "cell_type": "code",
   "execution_count": 63,
   "metadata": {},
   "outputs": [
    {
     "ename": "NameError",
     "evalue": "name 'r' is not defined",
     "output_type": "error",
     "traceback": [
      "\u001b[1;31m---------------------------------------------------------------------------\u001b[0m",
      "\u001b[1;31mNameError\u001b[0m                                 Traceback (most recent call last)",
      "\u001b[1;32m~\\AppData\\Local\\Temp/ipykernel_12432/142636425.py\u001b[0m in \u001b[0;36m<module>\u001b[1;34m\u001b[0m\n\u001b[0;32m      1\u001b[0m \u001b[1;31m# content\u001b[0m\u001b[1;33m\u001b[0m\u001b[1;33m\u001b[0m\u001b[1;33m\u001b[0m\u001b[0m\n\u001b[1;32m----> 2\u001b[1;33m \u001b[0mr\u001b[0m\u001b[1;33m.\u001b[0m\u001b[0mcontent\u001b[0m\u001b[1;33m\u001b[0m\u001b[1;33m\u001b[0m\u001b[0m\n\u001b[0m",
      "\u001b[1;31mNameError\u001b[0m: name 'r' is not defined"
     ]
    }
   ],
   "source": [
    "# content\n",
    "r.content"
   ]
  },
  {
   "cell_type": "code",
   "execution_count": null,
   "metadata": {},
   "outputs": [],
   "source": [
    "# type\n",
    "type(r.content)"
   ]
  },
  {
   "cell_type": "code",
   "execution_count": null,
   "metadata": {},
   "outputs": [],
   "source": [
    "# str en précisant un encodage\n",
    "content = r.content.decode('utf-8')\n",
    "content"
   ]
  },
  {
   "cell_type": "code",
   "execution_count": null,
   "metadata": {},
   "outputs": [],
   "source": [
    "type(content)"
   ]
  },
  {
   "cell_type": "markdown",
   "metadata": {},
   "source": [
    "#### Essai avec des regex\n",
    "\n",
    "On cherche: `<span class=\"price\">...</span>`"
   ]
  },
  {
   "cell_type": "code",
   "execution_count": null,
   "metadata": {},
   "outputs": [],
   "source": [
    "# récupération mannuelle d'un prix avec une regex\n",
    "# extraction de tous les caractères différents de <\n",
    "# compris entre <span class=\"price\"> et </span>\n",
    "rx = re.compile('<span class=\"price\">([^<]+)</span>')\n",
    "match = rx.search(content)  # équivalent à match = re.search('<span class=\"price\">([^<]+)</span>', content)\n",
    "type(match)"
   ]
  },
  {
   "cell_type": "code",
   "execution_count": null,
   "metadata": {},
   "outputs": [],
   "source": [
    "# extraction de niveau 0\n",
    "match.group(0)"
   ]
  },
  {
   "cell_type": "code",
   "execution_count": null,
   "metadata": {},
   "outputs": [],
   "source": [
    "# extraction de niveau 1\n",
    "match.group(1)"
   ]
  },
  {
   "cell_type": "code",
   "execution_count": null,
   "metadata": {},
   "outputs": [],
   "source": [
    "# récupération mannuelle de tous les prix avec une regex\n",
    "for match in rx.finditer(content):\n",
    "    print(match.group(1))"
   ]
  },
  {
   "cell_type": "markdown",
   "metadata": {},
   "source": [
    "La technique est très fragile car elle s'appuie sur la syntaxe HTML exacte et non sur la sémantique..."
   ]
  },
  {
   "cell_type": "code",
   "execution_count": null,
   "metadata": {},
   "outputs": [],
   "source": [
    "# récupération mannuelle de tous les prix avec une regex\n",
    "rx = re.compile('<span class=\"price from-price strike-through\">([^<]+)</span>')\n",
    "for match in rx.finditer(content):\n",
    "    print(match.group(1))"
   ]
  },
  {
   "cell_type": "code",
   "execution_count": null,
   "metadata": {},
   "outputs": [],
   "source": [
    "# récupération mannuelle de tous les prix avec une regex\n",
    "# ( from-price)? est une expression de capture\n",
    "# possibilité d'utiliser (?: from-price)? qui n'est pas une expression de capture\n",
    "rx = re.compile('<span class=\"price( from-price)?( strike-through)?\">([^<]+)</span>')\n",
    "for match in rx.finditer(content):\n",
    "    print(match.group(1), match.group(2), match.group(3))"
   ]
  },
  {
   "cell_type": "markdown",
   "metadata": {},
   "source": [
    "**Avec pandas.read_html()** recherche des tableaux dans les pages HTML"
   ]
  },
  {
   "cell_type": "markdown",
   "metadata": {},
   "source": [
    "**Exemple**\n",
    "\n",
    "Tableau page wikipédia: https://fr.wikipedia.org/wiki/Liste_des_pays_par_PIB_nominal"
   ]
  },
  {
   "cell_type": "code",
   "execution_count": null,
   "metadata": {},
   "outputs": [],
   "source": [
    "# scraping d'une page HTML\n",
    "var = pd.read_html(\"https://fr.wikipedia.org/wiki/Liste_des_pays_par_PIB_nominal\")\n",
    "[df.shape for df in var]"
   ]
  },
  {
   "cell_type": "code",
   "execution_count": null,
   "metadata": {},
   "outputs": [],
   "source": [
    "# accès au n° 2\n",
    "df = var[1]\n",
    "df"
   ]
  },
  {
   "cell_type": "code",
   "execution_count": null,
   "metadata": {},
   "outputs": [],
   "source": [
    "# accès à des valeurs\n",
    "df.iloc[0]"
   ]
  },
  {
   "cell_type": "code",
   "execution_count": null,
   "metadata": {},
   "outputs": [],
   "source": [
    "# index = columns du DataFrame\n",
    "df.iloc[0].index"
   ]
  },
  {
   "cell_type": "code",
   "execution_count": null,
   "metadata": {},
   "outputs": [],
   "source": [
    "# accès à des valeurs\n",
    "df.iloc[[0, 1, 2, 76, -1]]"
   ]
  },
  {
   "cell_type": "code",
   "execution_count": null,
   "metadata": {},
   "outputs": [],
   "source": [
    "# accès à une valeur\n",
    "df.iloc[1, 2]"
   ]
  },
  {
   "cell_type": "code",
   "execution_count": null,
   "metadata": {},
   "outputs": [],
   "source": [
    "df.iloc[-1, -1]"
   ]
  },
  {
   "cell_type": "markdown",
   "metadata": {},
   "source": [
    "Chercher le code hexa \\xa0 : https://www.codetable.net/hex/a0"
   ]
  },
  {
   "cell_type": "code",
   "execution_count": null,
   "metadata": {},
   "outputs": [],
   "source": [
    "# aide sur read_html()\n",
    "pd.read_html?"
   ]
  },
  {
   "cell_type": "code",
   "execution_count": null,
   "metadata": {},
   "outputs": [],
   "source": [
    "# conversion automatique du séparateur des milliers\n",
    "var = pd.read_html(\"https://fr.wikipedia.org/wiki/Liste_des_pays_par_PIB_nominal\",\n",
    "                    thousands='\\xa0',\n",
    "                    decimal=',')\n",
    "df = var[1]\n",
    "df.iloc[[0, 1, 2, 76, -1]]"
   ]
  },
  {
   "cell_type": "code",
   "execution_count": null,
   "metadata": {},
   "outputs": [],
   "source": [
    "# reste à faire\n",
    "df.loc[df['Pays ou territoire'].str.contains(\"[^A-Za-zÀ-ÿ0-9 \\-']\")]"
   ]
  },
  {
   "cell_type": "markdown",
   "metadata": {},
   "source": [
    "**Exercice 4**\n",
    "\n",
    "Extraire les noms des pays sans les annotations."
   ]
  },
  {
   "cell_type": "markdown",
   "metadata": {},
   "source": [
    "**Avec beautifulsoup** parsing HTML"
   ]
  },
  {
   "cell_type": "markdown",
   "metadata": {},
   "source": [
    "Doc :\n",
    "- beautifulsoup : https://www.crummy.com/software/BeautifulSoup/bs4/doc/\n",
    "\n",
    "Installation :\n",
    "- *pip install beautifulsoup4* ou *conda install -c anaconda beautifulsoup4*"
   ]
  },
  {
   "cell_type": "code",
   "execution_count": null,
   "metadata": {},
   "outputs": [],
   "source": [
    "# imports\n",
    "from bs4 import BeautifulSoup"
   ]
  },
  {
   "cell_type": "markdown",
   "metadata": {},
   "source": [
    "**Exemple basique**"
   ]
  },
  {
   "cell_type": "code",
   "execution_count": null,
   "metadata": {},
   "outputs": [],
   "source": [
    "html = \"\"\"\n",
    "<html>\n",
    "    <head>\n",
    "        <style>\n",
    "        h1 { font-size: 50px; }\n",
    "        body { font-family: Verdana; }\n",
    "        li { color: red; }\n",
    "        ul ul li { color: green; }\n",
    "        .highlighted { font-weight: bold; }\n",
    "        .italic { font-style: italic; }\n",
    "        .highlighted.italic { }\n",
    "        </style>\n",
    "    </head>\n",
    "    <body>\n",
    "        <h1>Mon titre</h1>\n",
    "        <p class=\"highlighted\">\n",
    "            Some text with a<br>\n",
    "            <a href=\"https://google.com\">link to google</a>\n",
    "            <img src=\"https://picsum.photos/200/300\">\n",
    "        </p>\n",
    "        <p>Some list:</p>\n",
    "        <ul>\n",
    "            <li>some item</li>\n",
    "            <li class=\"highlighted italic\">some item</li>\n",
    "            <li class=\"italic\">some item</li>\n",
    "            <ul>\n",
    "                <li>some other item 1</li>\n",
    "                <li>some other item 2</li>\n",
    "            </ul>\n",
    "            <li>some item</li>\n",
    "        </ul>\n",
    "    </body>\n",
    "</html>\n",
    "\"\"\""
   ]
  },
  {
   "cell_type": "markdown",
   "metadata": {},
   "source": [
    "A tester sur : https://html.house"
   ]
  },
  {
   "cell_type": "code",
   "execution_count": null,
   "metadata": {},
   "outputs": [],
   "source": [
    "# bs4\n",
    "soup = BeautifulSoup(html)\n",
    "soup"
   ]
  },
  {
   "cell_type": "code",
   "execution_count": null,
   "metadata": {},
   "outputs": [],
   "source": [
    "# type\n",
    "type(soup)"
   ]
  },
  {
   "cell_type": "code",
   "execution_count": null,
   "metadata": {},
   "outputs": [],
   "source": [
    "# find h1\n",
    "titre = soup.find('h1')\n",
    "titre"
   ]
  },
  {
   "cell_type": "code",
   "execution_count": null,
   "metadata": {},
   "outputs": [],
   "source": [
    "# type\n",
    "type(titre)"
   ]
  },
  {
   "cell_type": "code",
   "execution_count": null,
   "metadata": {},
   "outputs": [],
   "source": [
    "# name\n",
    "titre.name"
   ]
  },
  {
   "cell_type": "code",
   "execution_count": null,
   "metadata": {},
   "outputs": [],
   "source": [
    "# text\n",
    "titre.text"
   ]
  },
  {
   "cell_type": "code",
   "execution_count": null,
   "metadata": {},
   "outputs": [],
   "source": [
    "# find a\n",
    "link = soup.find('a')\n",
    "link"
   ]
  },
  {
   "cell_type": "code",
   "execution_count": null,
   "metadata": {},
   "outputs": [],
   "source": [
    "# prochain tag\n",
    "link.find_next()"
   ]
  },
  {
   "cell_type": "code",
   "execution_count": null,
   "metadata": {},
   "outputs": [],
   "source": [
    "# attrs\n",
    "link.attrs"
   ]
  },
  {
   "cell_type": "code",
   "execution_count": null,
   "metadata": {},
   "outputs": [],
   "source": [
    "# text\n",
    "link.text"
   ]
  },
  {
   "cell_type": "code",
   "execution_count": null,
   "metadata": {},
   "outputs": [],
   "source": [
    "# find p\n",
    "paragraph = soup.find('p')\n",
    "paragraph"
   ]
  },
  {
   "cell_type": "code",
   "execution_count": null,
   "metadata": {},
   "outputs": [],
   "source": [
    "# find img in paragraph\n",
    "paragraph.find('img')"
   ]
  },
  {
   "cell_type": "code",
   "execution_count": null,
   "metadata": {},
   "outputs": [],
   "source": [
    "# find_all\n",
    "soup.find_all('li', {'class': \"italic\"})"
   ]
  },
  {
   "cell_type": "code",
   "execution_count": null,
   "metadata": {},
   "outputs": [],
   "source": [
    "# idem avec un sélecteur css:\n",
    "soup.select('li.italic')"
   ]
  },
  {
   "cell_type": "code",
   "execution_count": null,
   "metadata": {},
   "outputs": [],
   "source": [
    "# Récupérer les li de 2e niveau qui sont dans un ul lui-même dans un ul\n",
    "soup.find('ul').find('ul').find_all('li')"
   ]
  },
  {
   "cell_type": "code",
   "execution_count": null,
   "metadata": {},
   "outputs": [],
   "source": [
    "# idem avec un sélecteur css:\n",
    "soup.select('ul ul li')"
   ]
  },
  {
   "cell_type": "code",
   "execution_count": null,
   "metadata": {},
   "outputs": [],
   "source": [
    "# accès au premier li\n",
    "li = soup.select('ul ul li')[0]\n",
    "li"
   ]
  },
  {
   "cell_type": "code",
   "execution_count": null,
   "metadata": {},
   "outputs": [],
   "source": [
    "# prochain tag identique\n",
    "li.find_next_sibling()"
   ]
  },
  {
   "cell_type": "code",
   "execution_count": null,
   "metadata": {},
   "outputs": [],
   "source": [
    "# parent\n",
    "li.parent"
   ]
  },
  {
   "cell_type": "code",
   "execution_count": null,
   "metadata": {},
   "outputs": [],
   "source": [
    "# contents\n",
    "li.parent.contents"
   ]
  },
  {
   "cell_type": "code",
   "execution_count": null,
   "metadata": {},
   "outputs": [],
   "source": [
    "# que les tags\n",
    "li.parent.find_all()"
   ]
  },
  {
   "cell_type": "markdown",
   "metadata": {},
   "source": [
    "**Exemple 1**\n",
    "\n",
    "Le Bon Coin"
   ]
  },
  {
   "cell_type": "code",
   "execution_count": null,
   "metadata": {},
   "outputs": [],
   "source": [
    "# premier essai avec leboncoin\n",
    "\n",
    "r = requests.get('https://www.leboncoin.fr/annonces/offres/ile_de_france/')\n",
    "r"
   ]
  },
  {
   "cell_type": "markdown",
   "metadata": {},
   "source": [
    "Codes erreurs du protocole HTTP : https://developer.mozilla.org/fr/docs/Web/HTTP/Status"
   ]
  },
  {
   "cell_type": "code",
   "execution_count": null,
   "metadata": {},
   "outputs": [],
   "source": [
    "# contenu\n",
    "r.content"
   ]
  },
  {
   "cell_type": "code",
   "execution_count": null,
   "metadata": {},
   "outputs": [],
   "source": [
    "# en str\n",
    "print(r.content.decode('utf-8'))"
   ]
  },
  {
   "cell_type": "markdown",
   "metadata": {},
   "source": [
    "Lancement du script `server.py` lancé dans un terminal avec la commande :\n",
    "<code>python server.py --bind 127.0.0.1</code> sur Windows ou <code>python server.py --bind 0.0.0.0</code> sur MacOS."
   ]
  },
  {
   "cell_type": "code",
   "execution_count": null,
   "metadata": {},
   "outputs": [],
   "source": [
    "# avec run de server.py\n",
    "r = requests.get('http://127.0.0.1:8000')  # http://0.0.0.0:8000\n",
    "r"
   ]
  },
  {
   "cell_type": "code",
   "execution_count": null,
   "metadata": {},
   "outputs": [],
   "source": [
    "# avec run de server.py\n",
    "r.content"
   ]
  },
  {
   "cell_type": "code",
   "execution_count": null,
   "metadata": {},
   "outputs": [],
   "source": [
    "# avec run de server.py\n",
    "from IPython.display import IFrame\n",
    "IFrame('http://127.0.0.1:8000', width=800, height=200)  # http://0.0.0.0:8000"
   ]
  },
  {
   "cell_type": "markdown",
   "metadata": {},
   "source": [
    "##### Retour avec Google Chrome qui envoie systématiquement un cookie aux sites visités\n",
    "\n",
    "<pre>\n",
    "Thu Oct 1 16:32:14 2020\n",
    "'Host': '127.0.0.1:8000',\n",
    "'Connection': 'keep-alive',\n",
    "'Upgrade-Insecure-Requests': '1',\n",
    "'User-Agent': 'Mozilla/5.0 (Windows NT 6.1; Win64; x64) AppleWebKit/537.36 (KHTML, like Gecko) Chrome/85.0.4183.121 Safari/537.36',\n",
    "'Accept': 'text/html,application/xhtml+xml,application/xml;q=0.9,image/avif,image/webp,image/apng,*/*;q=0.8,application/signed-exchange;v=b3;q=0.9',\n",
    "'Sec-Fetch-Site': 'none',\n",
    "'Sec-Fetch-Mode': 'navigate',\n",
    "'Sec-Fetch-User': '?1',\n",
    "'Sec-Fetch-Dest': 'document',\n",
    "'Accept-Encoding': 'gzip, deflate, br',\n",
    "'Accept-Language': 'fr-FR,fr;q=0.9,en-US;q=0.8,en;q=0.7,de;q=0.6',\n",
    "'Cookie': '_ga=GA1.1.825032489.1592389992',\n",
    "</pre>"
   ]
  },
  {
   "cell_type": "code",
   "execution_count": null,
   "metadata": {},
   "outputs": [],
   "source": [
    "# headers\n",
    "headers = requests.utils.default_headers()\n",
    "headers.update({'User-Agent': 'Mozilla/5.0 (Windows NT 6.1; Win64; x64) AppleWebKit/537.36 (KHTML, like Gecko) Chrome/85.0.4183.121 Safari/537.36',\n",
    "               'Accept-Language': 'fr,fr-FR;',})\n",
    "headers"
   ]
  },
  {
   "cell_type": "code",
   "execution_count": null,
   "metadata": {},
   "outputs": [],
   "source": [
    "# 2nd essai avec leboncoin\n",
    "r = requests.get('https://www.leboncoin.fr/annonces/offres/ile_de_france/',\n",
    "                 headers=headers)\n",
    "r"
   ]
  },
  {
   "cell_type": "code",
   "execution_count": null,
   "metadata": {},
   "outputs": [],
   "source": [
    "r.content"
   ]
  },
  {
   "cell_type": "code",
   "execution_count": null,
   "metadata": {},
   "outputs": [],
   "source": [
    "# BeautifulSoup\n",
    "soup = BeautifulSoup(r.content)\n",
    "soup"
   ]
  },
  {
   "cell_type": "markdown",
   "metadata": {},
   "source": [
    "**Exemple 2**\n",
    "\n",
    "Craig List"
   ]
  },
  {
   "cell_type": "code",
   "execution_count": null,
   "metadata": {},
   "outputs": [],
   "source": [
    "# essai avec craigslist\n",
    "r = requests.get('https://paris.craigslist.org/d/locations-de-vacances/search/vac')\n",
    "r"
   ]
  },
  {
   "cell_type": "code",
   "execution_count": null,
   "metadata": {},
   "outputs": [],
   "source": [
    "# BeautifulSoup\n",
    "soup = BeautifulSoup(r.content)\n",
    "soup"
   ]
  },
  {
   "cell_type": "markdown",
   "metadata": {},
   "source": [
    "On utilise 2 méthodes :\n",
    "    \n",
    "- find(tag, attrs) : trouve le premier tag avec les attributs spécifiés\n",
    "- findAll(tag, attrs) : trouve tous les tags avec les attributs spécifiés"
   ]
  },
  {
   "cell_type": "code",
   "execution_count": null,
   "metadata": {},
   "outputs": [],
   "source": [
    "# exploration du HTML\n",
    "# tag li avec class=\"result-row\"\n",
    "\n",
    "li_tag = soup.find('li', attrs={'class': 'result-row'})\n",
    "print(li_tag)"
   ]
  },
  {
   "cell_type": "code",
   "execution_count": null,
   "metadata": {},
   "outputs": [],
   "source": [
    "# type\n",
    "type(li_tag)"
   ]
  },
  {
   "cell_type": "markdown",
   "metadata": {},
   "source": [
    "La technique consiste par exemple à alimenter une liste de dictionnaires avec les valeurs trouvées pour chaque item et ensuite à le transformer en DataFrame :\n",
    "- soit en utilisant `tag.attrs['attr']` pour collecter la valeur attr du tag <tag attr=value>\n",
    "- soit en utilisant `tag.text` pour collecter la valeur <tag>text</tag>\n",
    "- éventuellement en recherchant dans un nouveau tag à l'intérieur d'un tag donné"
   ]
  },
  {
   "cell_type": "code",
   "execution_count": null,
   "metadata": {},
   "outputs": [],
   "source": [
    "# collecte des informations\n",
    "# \"data-pid\"\n",
    "# \"time\"\n",
    "# \"title\"\n",
    "# \"price\"\n",
    "# \"housing\"\n",
    "# \"hood\"\n",
    "# \"data-ids\" (images)\n",
    "\n",
    "rows = []\n",
    "\n",
    "for li_tag in soup.findAll('li', attrs={'class': 'result-row'}):\n",
    "    row = {}\n",
    "    row['data-pid'] = li_tag.attrs['data-pid']\n",
    "    t = li_tag.find('time')\n",
    "    row['datetime'] = t.attrs['datetime']\n",
    "    # à compléter\n",
    "    rows.append(row)\n",
    "    \n",
    "rows"
   ]
  },
  {
   "cell_type": "code",
   "execution_count": null,
   "metadata": {},
   "outputs": [],
   "source": [
    "# en DataFrame\n",
    "df = pd.DataFrame(rows)\n",
    "df"
   ]
  },
  {
   "cell_type": "markdown",
   "metadata": {},
   "source": [
    "**Exercice 5**\n",
    "\n",
    "Compléter le DataFrame (sauf images)"
   ]
  },
  {
   "cell_type": "code",
   "execution_count": null,
   "metadata": {},
   "outputs": [],
   "source": [
    "# collecte des photos\n",
    "# traitement des \"data-ids\"\n",
    "# séparation des formats et des noms de fichier\n",
    "# from javascript\n",
    "imageConfig: {\"1\":{\"hostname\":\"https://images.craigslist.org\",\"sizes\":[\"50x50c\",\"300x300\",\"600x450\",\"1200x900\"]},\n",
    "              \"4\":{\"hostname\":\"https://images.craigslist.org\",\"sizes\":[\"50x50c\",\"300x300\",\"600x450\",\"1200x900\"]},\n",
    "              \"0\":{\"hostname\":\"https://images.craigslist.org\",\"sizes\":[\"50x50c\",\"300x300\",\"600x450\"]},\n",
    "              \"3\":{\"hostname\":\"https://images.craigslist.org\",\"sizes\":[\"50x50c\",\"300x300\",\"600x450\",\"1200x900\"]},\n",
    "              \"2\":{\"hostname\":\"https://images.craigslist.org\",\"sizes\":[\"50x50c\",\"300x300\",\"600x450\",\"1200x900\"]}}"
   ]
  },
  {
   "cell_type": "code",
   "execution_count": null,
   "metadata": {},
   "outputs": [],
   "source": [
    "# récupération des photos\n",
    "from urllib import request\n",
    "from shutil import copyfileobj\n",
    "\n",
    "# data-ids\n",
    "img = '00z0z_bh4cg0Zjre2z_0da07p'\n",
    "size = '50x50c'\n",
    "filename = '{}_{}.jpg'.format(img, size)\n",
    "url = 'https://images.craigslist.org/{}'.format(filename)\n",
    "\n",
    "# get the file from the web and save it locally\n",
    "with request.urlopen(url) as response, open(filename, 'wb') as out_file:\n",
    "    copyfileobj(response, out_file)"
   ]
  },
  {
   "cell_type": "code",
   "execution_count": null,
   "metadata": {},
   "outputs": [],
   "source": [
    "from IPython.display import Image\n",
    "Image(filename=filename)"
   ]
  },
  {
   "cell_type": "markdown",
   "metadata": {},
   "source": [
    "#### Inconvénients du web scraping:\n",
    "- plutôt lent (car on parse potentiellement beaucoup de HTML inutile)\n",
    "- ne donne pas les résultats attendus si une partie du contenu est intégré dynamiquement à la page via javascript\n",
    "- un changement dans l'architecture du html ou du css (e.g: refonte du design du site) oblige à réécrire entièrement le programme"
   ]
  },
  {
   "cell_type": "markdown",
   "metadata": {},
   "source": [
    "### API\n",
    "\n",
    "Exemple: Deezer\n",
    "\n",
    "Artiste : https://www.deezer.com/fr/artist/3037\n",
    "\n",
    "Récupérer le nombre de fans d'un artiste avec requests :"
   ]
  },
  {
   "cell_type": "code",
   "execution_count": null,
   "metadata": {},
   "outputs": [],
   "source": [
    "import requests\n",
    "from bs4 import BeautifulSoup\n",
    "# request\n",
    "artist = 3037\n",
    "response = requests.get(f'https://www.deezer.com/fr/artist/{artist}')\n",
    "soup = BeautifulSoup(response.content)\n",
    "nb_fans = int(soup.find('div', id='naboo_artist_social_small').span.text)\n",
    "nb_fans"
   ]
  },
  {
   "cell_type": "markdown",
   "metadata": {},
   "source": [
    "Récupérer le nombre de fans d'un artiste avec l'API :\n",
    "\n",
    "Doc:\n",
    "- https://pypi.org/project/deezer-python/\n",
    "\n",
    "Installation :\n",
    "- *pip install deezer-python*"
   ]
  },
  {
   "cell_type": "markdown",
   "metadata": {},
   "source": [
    "Le terme \"API\" est très générique et peut désigner bien des choses, mais dans le jargon on l'utilise souvent pour désigner un service web qui renvoie non pas:\n",
    "> des pages web au format HTML (destinées à être lues par un humain dans son navigateur)\n",
    "\n",
    "mais:\n",
    "> des données au format JSON (destinées à être traitées par un programme)\n",
    "\n",
    "![img](https://miro.medium.com/max/4238/1*OcmVkcsM5BWRHrg8GC17iw.png)\n",
    "\n",
    "Puisque les API sont dédiées à l'usage via des programmes, elles disposent en général d'une bonne documentation, et sont fiables et stables dans le temps. Tandis que sur des pages web HTML classiques, le design peut par exemple changer du jour au lendemain et rendre votre programme BeautifulSoup obsolète."
   ]
  },
  {
   "cell_type": "code",
   "execution_count": null,
   "metadata": {},
   "outputs": [],
   "source": [
    "# API JSON\n",
    "response = requests.get(f'https://api.deezer.com/artist/{artist}')\n",
    "data = response.json()\n",
    "data"
   ]
  },
  {
   "cell_type": "code",
   "execution_count": null,
   "metadata": {},
   "outputs": [],
   "source": [
    "# nb_fan\n",
    "data['nb_fan']"
   ]
  },
  {
   "cell_type": "code",
   "execution_count": null,
   "metadata": {},
   "outputs": [],
   "source": [
    "# picture\n",
    "url = data['picture']\n",
    "r = requests.get(url)\n",
    "Image(data=r.content)"
   ]
  },
  {
   "cell_type": "markdown",
   "metadata": {},
   "source": [
    "#### Avantages d'une API\n",
    "- renvoie du format JSON, facile et rapide à traiter\n",
    "- renvoie un format stable et documenté (voire versionné)\n",
    "- exemple : https://developer.twitter.com/en/docs/twitter-api/api-reference-index\n",
    "- la documentation indique comment interagir avec l'API:\n",
    "    - quelle url\n",
    "    - quelle méthode http (GET, POST, ...)\n",
    "    - quels paramètres\n",
    "    - ...\n",
    "→ idéal pour les développeurs"
   ]
  },
  {
   "cell_type": "markdown",
   "metadata": {},
   "source": [
    "### Quel intérêt pour le fournisseur d'API ?\n",
    "\n",
    "En général il met en place des quotas de requêtes ou d'autres limitations afin de proposer un service payant qui dispose de possibilités avancées / d'un meilleur support / etc.\n",
    "\n",
    "C'est pourquoi de nombreux services nécessitent de se connecter avec son compte client pour utiliser une API (e.g. https://openweathermap.org/api)"
   ]
  },
  {
   "cell_type": "markdown",
   "metadata": {},
   "source": [
    "#### **Basic Auth**\n",
    "\n",
    "Exemple: accéder à https://kim.fspot.org/private/\n",
    "\n",
    "Pour y accéder il est nécessaire d'utiliser les credentials suivant:\n",
    "- login: admin\n",
    "- password: secret\n",
    "\n",
    "Si on ne les passe pas (ou si on ne passe pas les bons), on a une erreur 401 (= unauthorized)."
   ]
  },
  {
   "cell_type": "code",
   "execution_count": null,
   "metadata": {},
   "outputs": [],
   "source": [
    "# sans login/password\n",
    "res = requests.get('https://kim.fspot.org/private')\n",
    "res"
   ]
  },
  {
   "cell_type": "code",
   "execution_count": null,
   "metadata": {},
   "outputs": [],
   "source": [
    "# avec login password\n",
    "res = requests.get('https://kim.fspot.org/private', auth=('admin', 'secret'))\n",
    "res"
   ]
  },
  {
   "cell_type": "code",
   "execution_count": null,
   "metadata": {},
   "outputs": [],
   "source": [
    "# contenu\n",
    "res.content.decode('utf-8')"
   ]
  },
  {
   "cell_type": "markdown",
   "metadata": {},
   "source": [
    "#### Auth par token\n",
    "\n",
    "Exemple sur openweathermap :\n",
    "- documentation: https://openweathermap.org/appid\n",
    "- mes tokens: https://home.openweathermap.org/api_keys"
   ]
  },
  {
   "cell_type": "code",
   "execution_count": null,
   "metadata": {},
   "outputs": [],
   "source": [
    "# requête avec un token\n",
    "token = ''"
   ]
  },
  {
   "cell_type": "markdown",
   "metadata": {},
   "source": [
    "Avantage des tokens:\n",
    "- évite que les requêtes HTTP contiennent le mot de passe - à la place elles contiennent un token\n",
    "- si je me fais \"voler\" un token, je peux le supprimer de mon compte\n",
    "- certains services fournissent des token plus ou moins limités : ainsi je peux accepter de prêter un token à quelqu'un d'autre si je sais qu'il ne pourra en faire qu'un usage restreint (e.g app facebook: voir mes infos de profil, pas publier des posts à ma place)"
   ]
  },
  {
   "cell_type": "code",
   "execution_count": null,
   "metadata": {},
   "outputs": [],
   "source": [
    "# requête avec un token\n",
    "url = f'http://api.openweathermap.org/data/2.5/weather?APPID={token}&q=Paris'\n",
    "res = requests.get(url)\n",
    "\n",
    "meteo = res.json()\n",
    "meteo"
   ]
  },
  {
   "cell_type": "code",
   "execution_count": null,
   "metadata": {},
   "outputs": [],
   "source": [
    "# type\n",
    "type(meteo)"
   ]
  },
  {
   "cell_type": "code",
   "execution_count": null,
   "metadata": {},
   "outputs": [],
   "source": [
    "# extractions\n",
    "{'city': meteo['name'],\n",
    "'country': meteo['sys']['country'],\n",
    "'date': meteo['dt'],\n",
    "'temp': meteo['main']['temp'] - 273.15,}"
   ]
  },
  {
   "cell_type": "code",
   "execution_count": null,
   "metadata": {},
   "outputs": [],
   "source": [
    "# extractions\n",
    "import time\n",
    "\n",
    "{'city': meteo['name'],\n",
    "'country': meteo['sys']['country'],\n",
    "'date': time.strftime('%Y-%m-%d %H:%M:%S', time.localtime(meteo['dt'])),\n",
    "'temp': meteo['main']['temp'] - 273.15,}"
   ]
  }
 ],
 "metadata": {
  "kernelspec": {
   "display_name": "Python 3 (ipykernel)",
   "language": "python",
   "name": "python3"
  },
  "language_info": {
   "codemirror_mode": {
    "name": "ipython",
    "version": 3
   },
   "file_extension": ".py",
   "mimetype": "text/x-python",
   "name": "python",
   "nbconvert_exporter": "python",
   "pygments_lexer": "ipython3",
   "version": "3.8.11"
  }
 },
 "nbformat": 4,
 "nbformat_minor": 4
}
